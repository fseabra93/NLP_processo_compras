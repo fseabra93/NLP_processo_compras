{
  "cells": [
    {
      "cell_type": "markdown",
      "metadata": {
        "id": "rBWgUxsMgWNz"
      },
      "source": [
        "#Analisador de Processo de Compra\n",
        "\n",
        "Objetivo 1: Construir as mensagens dos emails para envio das notas de empenho\n",
        "\n",
        "Objetivo 2: Listar os produtos fracassados e checar se todos os produtos homologados pela DG constam nas notas de empenho anexadas ao processo\n",
        "\n",
        "Objetivo 3: Criar uma Planilha para acompanhamento das entregas dos produtos pelos fornecedores\n",
        "\n",
        "Objetivo 4: Checar se todos os pagamentos aos fornecedores já foram feitos para poder arquivar o processo"
      ]
    },
    {
      "cell_type": "code",
      "execution_count": null,
      "metadata": {
        "colab": {
          "base_uri": "https://localhost:8080/"
        },
        "id": "tdjufR_1BUVa",
        "outputId": "3eed6db4-cd29-4c88-d989-b7175fdcf84d"
      },
      "outputs": [
        {
          "output_type": "stream",
          "name": "stdout",
          "text": [
            "Requirement already satisfied: nltk in /usr/local/lib/python3.10/dist-packages (3.8.1)\n",
            "Requirement already satisfied: click in /usr/local/lib/python3.10/dist-packages (from nltk) (8.1.7)\n",
            "Requirement already satisfied: joblib in /usr/local/lib/python3.10/dist-packages (from nltk) (1.4.2)\n",
            "Requirement already satisfied: regex>=2021.8.3 in /usr/local/lib/python3.10/dist-packages (from nltk) (2024.9.11)\n",
            "Requirement already satisfied: tqdm in /usr/local/lib/python3.10/dist-packages (from nltk) (4.66.5)\n",
            "Requirement already satisfied: PyPDF2 in /usr/local/lib/python3.10/dist-packages (3.0.1)\n"
          ]
        }
      ],
      "source": [
        "!pip install nltk\n",
        "!pip install PyPDF2\n",
        "\n"
      ]
    },
    {
      "cell_type": "code",
      "execution_count": null,
      "metadata": {
        "colab": {
          "base_uri": "https://localhost:8080/"
        },
        "id": "u1mZTPN211_o",
        "outputId": "fa7ae2df-b915-4809-c6b0-3add18a7ff66"
      },
      "outputs": [
        {
          "output_type": "stream",
          "name": "stdout",
          "text": [
            "Drive already mounted at /content/drive; to attempt to forcibly remount, call drive.mount(\"/content/drive\", force_remount=True).\n"
          ]
        }
      ],
      "source": [
        "from google.colab import drive\n",
        "drive.mount('/content/drive')\n"
      ]
    },
    {
      "cell_type": "markdown",
      "metadata": {
        "id": "n3gvW86LApok"
      },
      "source": [
        "Carrega o processo selecionado para \"textPDF\""
      ]
    },
    {
      "cell_type": "code",
      "execution_count": null,
      "metadata": {
        "colab": {
          "base_uri": "https://localhost:8080/"
        },
        "collapsed": true,
        "id": "MKL3i6bkBdRZ",
        "outputId": "5274e9ca-8732-47fe-b398-e2a7ac6128c1"
      },
      "outputs": [
        {
          "output_type": "stream",
          "name": "stdout",
          "text": [
            "O documento contém 458 páginas.\n"
          ]
        }
      ],
      "source": [
        "import PyPDF2\n",
        "\n",
        "medicamentos = 'SEI_03789_2024.pdf'\n",
        "mat_hosp_odon = 'SEI_03699_2024.pdf'\n",
        "outros1 = 'SEI_03930_2024.pdf'\n",
        "\n",
        "with open(f'/content/drive/MyDrive/Colab Notebooks/Processo_compras/{medicamentos}', 'rb') as file:\n",
        "    reader = PyPDF2.PdfReader(file)\n",
        "\n",
        "    textPDF = ''\n",
        "    for page in reader.pages:\n",
        "        textPDF += page.extract_text()\n",
        "\n",
        "    num_pages = len(reader.pages)\n",
        "\n",
        "print(f\"O documento contém {num_pages} páginas.\")"
      ]
    },
    {
      "cell_type": "code",
      "execution_count": null,
      "metadata": {
        "colab": {
          "base_uri": "https://localhost:8080/"
        },
        "collapsed": true,
        "id": "qV8-KsS9Eyse",
        "outputId": "bd3aa0cc-7493-4a24-9845-ee495385079d"
      },
      "outputs": [
        {
          "output_type": "stream",
          "name": "stderr",
          "text": [
            "[nltk_data] Downloading package punkt to /root/nltk_data...\n",
            "[nltk_data]   Package punkt is already up-to-date!\n"
          ]
        }
      ],
      "source": [
        "#capturar os dados principais das notas de empenho\n",
        "\n",
        "import nltk\n",
        "nltk.download('punkt')\n",
        "# Dividir o texto em linhas\n",
        "lines = nltk.tokenize.sent_tokenize(textPDF)\n",
        "\n",
        "notas_de_empenho = [line for line in lines if \"Ano Tipo Número70008 TRIBUNAL REGIONAL ELEITORAL DO RIO G.DO NORTE REAL\" in line]"
      ]
    },
    {
      "cell_type": "markdown",
      "source": [
        "Capturar nas Notas de Empenho o CNPJ e o nome da empresa, o número da Nota de Empenho e o valor.\n",
        "São criados tantos dicionários quanto for o número de notas de empenho no processo e os dicionários são adicionados a uma lista"
      ],
      "metadata": {
        "id": "Pj4M1mJbIKcq"
      }
    },
    {
      "cell_type": "code",
      "execution_count": null,
      "metadata": {
        "colab": {
          "base_uri": "https://localhost:8080/"
        },
        "id": "jwepRuZqITBo",
        "outputId": "b5d94dd9-2110-4bcb-90cf-95124d43425d"
      },
      "outputs": [
        {
          "output_type": "stream",
          "name": "stdout",
          "text": [
            "[{'CNPJ': '05.792.645/0001-28CEP', 'Empresa': ''},\n",
            " {'CNPJ': '13.537.459/0001-70',\n",
            "  'Empresa': '2D XAVIER MEDICAMENTOS E PERFUMARIA LTDA',\n",
            "  'NE': '322',\n",
            "  'Valor': '4.569,02'}]\n"
          ]
        }
      ],
      "source": [
        "import pprint\n",
        "\n",
        "lista_dict = []\n",
        "\n",
        "for nota_emp in notas_de_empenho:\n",
        "\n",
        "  # Criar o dicionário\n",
        "  data_dict = {}\n",
        "\n",
        "  # Extrair as informações\n",
        "  lines = nota_emp.splitlines()\n",
        "\n",
        "  # Encontrar e adicionar 'NE'\n",
        "  for line in lines:\n",
        "      if \"NE\" in line:\n",
        "          parts = line.split()\n",
        "          data_dict['NE'] = parts[parts.index('NE') + 1]\n",
        "\n",
        "  # Encontrar e adicionar 'Empresa' e 'CNPJ'\n",
        "  for line in lines:\n",
        "      if \"/00\" in line:\n",
        "          parts = line.split()\n",
        "          data_dict['CNPJ'] = parts[0]\n",
        "          data_dict['Empresa'] = ' '.join(parts[1:])\n",
        "          break  # Para evitar múltiplas capturas\n",
        "\n",
        "  # Encontrar e adicionar 'Valor' usando referências\n",
        "  for line in lines:\n",
        "      if \"0,0000\" in line:\n",
        "          # Capturar o valor que vem depois de \"0,0000 \"\n",
        "          valor = line.split(\"0,0000 \")[1].split(\"\\n\")[0].strip()\n",
        "          data_dict['Valor'] = valor\n",
        "          break  # Para evitar múltiplas capturas\n",
        "\n",
        "  # Adicionar o dicionário à lista\n",
        "  lista_dict.append(data_dict)\n",
        "# Exibir o dicionário\n",
        "pprint.pprint(lista_dict)"
      ]
    },
    {
      "cell_type": "code",
      "execution_count": null,
      "metadata": {
        "id": "KbLQhIhqOimU",
        "colab": {
          "base_uri": "https://localhost:8080/"
        },
        "outputId": "7d5118e0-4426-4bf8-a246-b0c4ff20f481"
      },
      "outputs": [
        {
          "output_type": "execute_result",
          "data": {
            "text/plain": [
              "[{'NE': '322',\n",
              "  'CNPJ': '13.537.459/0001-70',\n",
              "  'Empresa': '2D XAVIER MEDICAMENTOS E PERFUMARIA LTDA',\n",
              "  'Valor': '4.569,02'}]"
            ]
          },
          "metadata": {},
          "execution_count": 127
        }
      ],
      "source": [
        "def remover_dicionarios_por_chave(lista_dicionarios, chave_desejada):\n",
        "  \"\"\"Remove da lista de dicionários todos os dicionários que não começam com NE (não são Notas de Empenho)\n",
        "  \"\"\"\n",
        "  lista_filtrada = []\n",
        "  for dicionario in lista_dicionarios:\n",
        "    if chave_desejada in dicionario:\n",
        "      lista_filtrada.append(dicionario)\n",
        "  return lista_filtrada\n",
        "\n",
        "lista_de_dicionarios = remover_dicionarios_por_chave(lista_dict, \"NE\")\n",
        "lista_de_dicionarios"
      ]
    },
    {
      "cell_type": "markdown",
      "source": [
        "Cria um DataFrame a partir do dicionário da lista de dicionários"
      ],
      "metadata": {
        "id": "MI2__4PnJINz"
      }
    },
    {
      "cell_type": "code",
      "execution_count": null,
      "metadata": {
        "colab": {
          "base_uri": "https://localhost:8080/",
          "height": 89
        },
        "id": "EWtEC2KQUOWe",
        "outputId": "55b347b5-273f-4bb7-c057-13a39e78afd8"
      },
      "outputs": [
        {
          "output_type": "execute_result",
          "data": {
            "text/plain": [
              "    NE                CNPJ                                   Empresa     Valor\n",
              "0  322  13.537.459/0001-70  2D XAVIER MEDICAMENTOS E PERFUMARIA LTDA  4.569,02"
            ],
            "text/html": [
              "\n",
              "  <div id=\"df-27a4c506-edb0-41d3-b40a-47368b1bc056\" class=\"colab-df-container\">\n",
              "    <div>\n",
              "<style scoped>\n",
              "    .dataframe tbody tr th:only-of-type {\n",
              "        vertical-align: middle;\n",
              "    }\n",
              "\n",
              "    .dataframe tbody tr th {\n",
              "        vertical-align: top;\n",
              "    }\n",
              "\n",
              "    .dataframe thead th {\n",
              "        text-align: right;\n",
              "    }\n",
              "</style>\n",
              "<table border=\"1\" class=\"dataframe\">\n",
              "  <thead>\n",
              "    <tr style=\"text-align: right;\">\n",
              "      <th></th>\n",
              "      <th>NE</th>\n",
              "      <th>CNPJ</th>\n",
              "      <th>Empresa</th>\n",
              "      <th>Valor</th>\n",
              "    </tr>\n",
              "  </thead>\n",
              "  <tbody>\n",
              "    <tr>\n",
              "      <th>0</th>\n",
              "      <td>322</td>\n",
              "      <td>13.537.459/0001-70</td>\n",
              "      <td>2D XAVIER MEDICAMENTOS E PERFUMARIA LTDA</td>\n",
              "      <td>4.569,02</td>\n",
              "    </tr>\n",
              "  </tbody>\n",
              "</table>\n",
              "</div>\n",
              "    <div class=\"colab-df-buttons\">\n",
              "\n",
              "  <div class=\"colab-df-container\">\n",
              "    <button class=\"colab-df-convert\" onclick=\"convertToInteractive('df-27a4c506-edb0-41d3-b40a-47368b1bc056')\"\n",
              "            title=\"Convert this dataframe to an interactive table.\"\n",
              "            style=\"display:none;\">\n",
              "\n",
              "  <svg xmlns=\"http://www.w3.org/2000/svg\" height=\"24px\" viewBox=\"0 -960 960 960\">\n",
              "    <path d=\"M120-120v-720h720v720H120Zm60-500h600v-160H180v160Zm220 220h160v-160H400v160Zm0 220h160v-160H400v160ZM180-400h160v-160H180v160Zm440 0h160v-160H620v160ZM180-180h160v-160H180v160Zm440 0h160v-160H620v160Z\"/>\n",
              "  </svg>\n",
              "    </button>\n",
              "\n",
              "  <style>\n",
              "    .colab-df-container {\n",
              "      display:flex;\n",
              "      gap: 12px;\n",
              "    }\n",
              "\n",
              "    .colab-df-convert {\n",
              "      background-color: #E8F0FE;\n",
              "      border: none;\n",
              "      border-radius: 50%;\n",
              "      cursor: pointer;\n",
              "      display: none;\n",
              "      fill: #1967D2;\n",
              "      height: 32px;\n",
              "      padding: 0 0 0 0;\n",
              "      width: 32px;\n",
              "    }\n",
              "\n",
              "    .colab-df-convert:hover {\n",
              "      background-color: #E2EBFA;\n",
              "      box-shadow: 0px 1px 2px rgba(60, 64, 67, 0.3), 0px 1px 3px 1px rgba(60, 64, 67, 0.15);\n",
              "      fill: #174EA6;\n",
              "    }\n",
              "\n",
              "    .colab-df-buttons div {\n",
              "      margin-bottom: 4px;\n",
              "    }\n",
              "\n",
              "    [theme=dark] .colab-df-convert {\n",
              "      background-color: #3B4455;\n",
              "      fill: #D2E3FC;\n",
              "    }\n",
              "\n",
              "    [theme=dark] .colab-df-convert:hover {\n",
              "      background-color: #434B5C;\n",
              "      box-shadow: 0px 1px 3px 1px rgba(0, 0, 0, 0.15);\n",
              "      filter: drop-shadow(0px 1px 2px rgba(0, 0, 0, 0.3));\n",
              "      fill: #FFFFFF;\n",
              "    }\n",
              "  </style>\n",
              "\n",
              "    <script>\n",
              "      const buttonEl =\n",
              "        document.querySelector('#df-27a4c506-edb0-41d3-b40a-47368b1bc056 button.colab-df-convert');\n",
              "      buttonEl.style.display =\n",
              "        google.colab.kernel.accessAllowed ? 'block' : 'none';\n",
              "\n",
              "      async function convertToInteractive(key) {\n",
              "        const element = document.querySelector('#df-27a4c506-edb0-41d3-b40a-47368b1bc056');\n",
              "        const dataTable =\n",
              "          await google.colab.kernel.invokeFunction('convertToInteractive',\n",
              "                                                    [key], {});\n",
              "        if (!dataTable) return;\n",
              "\n",
              "        const docLinkHtml = 'Like what you see? Visit the ' +\n",
              "          '<a target=\"_blank\" href=https://colab.research.google.com/notebooks/data_table.ipynb>data table notebook</a>'\n",
              "          + ' to learn more about interactive tables.';\n",
              "        element.innerHTML = '';\n",
              "        dataTable['output_type'] = 'display_data';\n",
              "        await google.colab.output.renderOutput(dataTable, element);\n",
              "        const docLink = document.createElement('div');\n",
              "        docLink.innerHTML = docLinkHtml;\n",
              "        element.appendChild(docLink);\n",
              "      }\n",
              "    </script>\n",
              "  </div>\n",
              "\n",
              "\n",
              "  <div id=\"id_fcb8176c-d274-403e-8aec-f6914af23602\">\n",
              "    <style>\n",
              "      .colab-df-generate {\n",
              "        background-color: #E8F0FE;\n",
              "        border: none;\n",
              "        border-radius: 50%;\n",
              "        cursor: pointer;\n",
              "        display: none;\n",
              "        fill: #1967D2;\n",
              "        height: 32px;\n",
              "        padding: 0 0 0 0;\n",
              "        width: 32px;\n",
              "      }\n",
              "\n",
              "      .colab-df-generate:hover {\n",
              "        background-color: #E2EBFA;\n",
              "        box-shadow: 0px 1px 2px rgba(60, 64, 67, 0.3), 0px 1px 3px 1px rgba(60, 64, 67, 0.15);\n",
              "        fill: #174EA6;\n",
              "      }\n",
              "\n",
              "      [theme=dark] .colab-df-generate {\n",
              "        background-color: #3B4455;\n",
              "        fill: #D2E3FC;\n",
              "      }\n",
              "\n",
              "      [theme=dark] .colab-df-generate:hover {\n",
              "        background-color: #434B5C;\n",
              "        box-shadow: 0px 1px 3px 1px rgba(0, 0, 0, 0.15);\n",
              "        filter: drop-shadow(0px 1px 2px rgba(0, 0, 0, 0.3));\n",
              "        fill: #FFFFFF;\n",
              "      }\n",
              "    </style>\n",
              "    <button class=\"colab-df-generate\" onclick=\"generateWithVariable('df_Notas_de_empenho')\"\n",
              "            title=\"Generate code using this dataframe.\"\n",
              "            style=\"display:none;\">\n",
              "\n",
              "  <svg xmlns=\"http://www.w3.org/2000/svg\" height=\"24px\"viewBox=\"0 0 24 24\"\n",
              "       width=\"24px\">\n",
              "    <path d=\"M7,19H8.4L18.45,9,17,7.55,7,17.6ZM5,21V16.75L18.45,3.32a2,2,0,0,1,2.83,0l1.4,1.43a1.91,1.91,0,0,1,.58,1.4,1.91,1.91,0,0,1-.58,1.4L9.25,21ZM18.45,9,17,7.55Zm-12,3A5.31,5.31,0,0,0,4.9,8.1,5.31,5.31,0,0,0,1,6.5,5.31,5.31,0,0,0,4.9,4.9,5.31,5.31,0,0,0,6.5,1,5.31,5.31,0,0,0,8.1,4.9,5.31,5.31,0,0,0,12,6.5,5.46,5.46,0,0,0,6.5,12Z\"/>\n",
              "  </svg>\n",
              "    </button>\n",
              "    <script>\n",
              "      (() => {\n",
              "      const buttonEl =\n",
              "        document.querySelector('#id_fcb8176c-d274-403e-8aec-f6914af23602 button.colab-df-generate');\n",
              "      buttonEl.style.display =\n",
              "        google.colab.kernel.accessAllowed ? 'block' : 'none';\n",
              "\n",
              "      buttonEl.onclick = () => {\n",
              "        google.colab.notebook.generateWithVariable('df_Notas_de_empenho');\n",
              "      }\n",
              "      })();\n",
              "    </script>\n",
              "  </div>\n",
              "\n",
              "    </div>\n",
              "  </div>\n"
            ],
            "application/vnd.google.colaboratory.intrinsic+json": {
              "type": "dataframe",
              "variable_name": "df_Notas_de_empenho",
              "summary": "{\n  \"name\": \"df_Notas_de_empenho\",\n  \"rows\": 1,\n  \"fields\": [\n    {\n      \"column\": \"NE\",\n      \"properties\": {\n        \"dtype\": \"string\",\n        \"num_unique_values\": 1,\n        \"samples\": [\n          \"322\"\n        ],\n        \"semantic_type\": \"\",\n        \"description\": \"\"\n      }\n    },\n    {\n      \"column\": \"CNPJ\",\n      \"properties\": {\n        \"dtype\": \"string\",\n        \"num_unique_values\": 1,\n        \"samples\": [\n          \"13.537.459/0001-70\"\n        ],\n        \"semantic_type\": \"\",\n        \"description\": \"\"\n      }\n    },\n    {\n      \"column\": \"Empresa\",\n      \"properties\": {\n        \"dtype\": \"string\",\n        \"num_unique_values\": 1,\n        \"samples\": [\n          \"2D XAVIER MEDICAMENTOS E PERFUMARIA LTDA\"\n        ],\n        \"semantic_type\": \"\",\n        \"description\": \"\"\n      }\n    },\n    {\n      \"column\": \"Valor\",\n      \"properties\": {\n        \"dtype\": \"string\",\n        \"num_unique_values\": 1,\n        \"samples\": [\n          \"4.569,02\"\n        ],\n        \"semantic_type\": \"\",\n        \"description\": \"\"\n      }\n    }\n  ]\n}"
            }
          },
          "metadata": {},
          "execution_count": 128
        }
      ],
      "source": [
        "#criação do DataFrame df_Notas_de_empenho com os dados do dicionario lista_dict\n",
        "import pandas as pd\n",
        "df_Notas_de_empenho = pd.DataFrame(lista_de_dicionarios)\n",
        "df_Notas_de_empenho"
      ]
    },
    {
      "cell_type": "markdown",
      "source": [
        "Capturar os emails e inserir no DataFrame"
      ],
      "metadata": {
        "id": "GrrwRGgoJj_l"
      }
    },
    {
      "cell_type": "code",
      "execution_count": null,
      "metadata": {
        "id": "AsTGw9Pdi9Gb",
        "colab": {
          "base_uri": "https://localhost:8080/",
          "height": 125
        },
        "outputId": "91260afb-fb98-41c1-aa12-e676076958e7"
      },
      "outputs": [
        {
          "output_type": "stream",
          "name": "stdout",
          "text": [
            "Frase de parada não encontrada no texto.\n",
            "Frase de parada não encontrada no texto.\n"
          ]
        },
        {
          "output_type": "execute_result",
          "data": {
            "text/plain": [
              "    NE                CNPJ                                   Empresa  \\\n",
              "0  322  13.537.459/0001-70  2D XAVIER MEDICAMENTOS E PERFUMARIA LTDA   \n",
              "\n",
              "      Valor           Email  \n",
              "0  4.569,02  nao_encontrado  "
            ],
            "text/html": [
              "\n",
              "  <div id=\"df-f2edc10e-c27e-49e0-b62d-413320fe7aca\" class=\"colab-df-container\">\n",
              "    <div>\n",
              "<style scoped>\n",
              "    .dataframe tbody tr th:only-of-type {\n",
              "        vertical-align: middle;\n",
              "    }\n",
              "\n",
              "    .dataframe tbody tr th {\n",
              "        vertical-align: top;\n",
              "    }\n",
              "\n",
              "    .dataframe thead th {\n",
              "        text-align: right;\n",
              "    }\n",
              "</style>\n",
              "<table border=\"1\" class=\"dataframe\">\n",
              "  <thead>\n",
              "    <tr style=\"text-align: right;\">\n",
              "      <th></th>\n",
              "      <th>NE</th>\n",
              "      <th>CNPJ</th>\n",
              "      <th>Empresa</th>\n",
              "      <th>Valor</th>\n",
              "      <th>Email</th>\n",
              "    </tr>\n",
              "  </thead>\n",
              "  <tbody>\n",
              "    <tr>\n",
              "      <th>0</th>\n",
              "      <td>322</td>\n",
              "      <td>13.537.459/0001-70</td>\n",
              "      <td>2D XAVIER MEDICAMENTOS E PERFUMARIA LTDA</td>\n",
              "      <td>4.569,02</td>\n",
              "      <td>nao_encontrado</td>\n",
              "    </tr>\n",
              "  </tbody>\n",
              "</table>\n",
              "</div>\n",
              "    <div class=\"colab-df-buttons\">\n",
              "\n",
              "  <div class=\"colab-df-container\">\n",
              "    <button class=\"colab-df-convert\" onclick=\"convertToInteractive('df-f2edc10e-c27e-49e0-b62d-413320fe7aca')\"\n",
              "            title=\"Convert this dataframe to an interactive table.\"\n",
              "            style=\"display:none;\">\n",
              "\n",
              "  <svg xmlns=\"http://www.w3.org/2000/svg\" height=\"24px\" viewBox=\"0 -960 960 960\">\n",
              "    <path d=\"M120-120v-720h720v720H120Zm60-500h600v-160H180v160Zm220 220h160v-160H400v160Zm0 220h160v-160H400v160ZM180-400h160v-160H180v160Zm440 0h160v-160H620v160ZM180-180h160v-160H180v160Zm440 0h160v-160H620v160Z\"/>\n",
              "  </svg>\n",
              "    </button>\n",
              "\n",
              "  <style>\n",
              "    .colab-df-container {\n",
              "      display:flex;\n",
              "      gap: 12px;\n",
              "    }\n",
              "\n",
              "    .colab-df-convert {\n",
              "      background-color: #E8F0FE;\n",
              "      border: none;\n",
              "      border-radius: 50%;\n",
              "      cursor: pointer;\n",
              "      display: none;\n",
              "      fill: #1967D2;\n",
              "      height: 32px;\n",
              "      padding: 0 0 0 0;\n",
              "      width: 32px;\n",
              "    }\n",
              "\n",
              "    .colab-df-convert:hover {\n",
              "      background-color: #E2EBFA;\n",
              "      box-shadow: 0px 1px 2px rgba(60, 64, 67, 0.3), 0px 1px 3px 1px rgba(60, 64, 67, 0.15);\n",
              "      fill: #174EA6;\n",
              "    }\n",
              "\n",
              "    .colab-df-buttons div {\n",
              "      margin-bottom: 4px;\n",
              "    }\n",
              "\n",
              "    [theme=dark] .colab-df-convert {\n",
              "      background-color: #3B4455;\n",
              "      fill: #D2E3FC;\n",
              "    }\n",
              "\n",
              "    [theme=dark] .colab-df-convert:hover {\n",
              "      background-color: #434B5C;\n",
              "      box-shadow: 0px 1px 3px 1px rgba(0, 0, 0, 0.15);\n",
              "      filter: drop-shadow(0px 1px 2px rgba(0, 0, 0, 0.3));\n",
              "      fill: #FFFFFF;\n",
              "    }\n",
              "  </style>\n",
              "\n",
              "    <script>\n",
              "      const buttonEl =\n",
              "        document.querySelector('#df-f2edc10e-c27e-49e0-b62d-413320fe7aca button.colab-df-convert');\n",
              "      buttonEl.style.display =\n",
              "        google.colab.kernel.accessAllowed ? 'block' : 'none';\n",
              "\n",
              "      async function convertToInteractive(key) {\n",
              "        const element = document.querySelector('#df-f2edc10e-c27e-49e0-b62d-413320fe7aca');\n",
              "        const dataTable =\n",
              "          await google.colab.kernel.invokeFunction('convertToInteractive',\n",
              "                                                    [key], {});\n",
              "        if (!dataTable) return;\n",
              "\n",
              "        const docLinkHtml = 'Like what you see? Visit the ' +\n",
              "          '<a target=\"_blank\" href=https://colab.research.google.com/notebooks/data_table.ipynb>data table notebook</a>'\n",
              "          + ' to learn more about interactive tables.';\n",
              "        element.innerHTML = '';\n",
              "        dataTable['output_type'] = 'display_data';\n",
              "        await google.colab.output.renderOutput(dataTable, element);\n",
              "        const docLink = document.createElement('div');\n",
              "        docLink.innerHTML = docLinkHtml;\n",
              "        element.appendChild(docLink);\n",
              "      }\n",
              "    </script>\n",
              "  </div>\n",
              "\n",
              "\n",
              "  <div id=\"id_0c4a86f4-ee54-47f7-b3e7-a4bec07f90fe\">\n",
              "    <style>\n",
              "      .colab-df-generate {\n",
              "        background-color: #E8F0FE;\n",
              "        border: none;\n",
              "        border-radius: 50%;\n",
              "        cursor: pointer;\n",
              "        display: none;\n",
              "        fill: #1967D2;\n",
              "        height: 32px;\n",
              "        padding: 0 0 0 0;\n",
              "        width: 32px;\n",
              "      }\n",
              "\n",
              "      .colab-df-generate:hover {\n",
              "        background-color: #E2EBFA;\n",
              "        box-shadow: 0px 1px 2px rgba(60, 64, 67, 0.3), 0px 1px 3px 1px rgba(60, 64, 67, 0.15);\n",
              "        fill: #174EA6;\n",
              "      }\n",
              "\n",
              "      [theme=dark] .colab-df-generate {\n",
              "        background-color: #3B4455;\n",
              "        fill: #D2E3FC;\n",
              "      }\n",
              "\n",
              "      [theme=dark] .colab-df-generate:hover {\n",
              "        background-color: #434B5C;\n",
              "        box-shadow: 0px 1px 3px 1px rgba(0, 0, 0, 0.15);\n",
              "        filter: drop-shadow(0px 1px 2px rgba(0, 0, 0, 0.3));\n",
              "        fill: #FFFFFF;\n",
              "      }\n",
              "    </style>\n",
              "    <button class=\"colab-df-generate\" onclick=\"generateWithVariable('df_Notas_de_empenho')\"\n",
              "            title=\"Generate code using this dataframe.\"\n",
              "            style=\"display:none;\">\n",
              "\n",
              "  <svg xmlns=\"http://www.w3.org/2000/svg\" height=\"24px\"viewBox=\"0 0 24 24\"\n",
              "       width=\"24px\">\n",
              "    <path d=\"M7,19H8.4L18.45,9,17,7.55,7,17.6ZM5,21V16.75L18.45,3.32a2,2,0,0,1,2.83,0l1.4,1.43a1.91,1.91,0,0,1,.58,1.4,1.91,1.91,0,0,1-.58,1.4L9.25,21ZM18.45,9,17,7.55Zm-12,3A5.31,5.31,0,0,0,4.9,8.1,5.31,5.31,0,0,0,1,6.5,5.31,5.31,0,0,0,4.9,4.9,5.31,5.31,0,0,0,6.5,1,5.31,5.31,0,0,0,8.1,4.9,5.31,5.31,0,0,0,12,6.5,5.46,5.46,0,0,0,6.5,12Z\"/>\n",
              "  </svg>\n",
              "    </button>\n",
              "    <script>\n",
              "      (() => {\n",
              "      const buttonEl =\n",
              "        document.querySelector('#id_0c4a86f4-ee54-47f7-b3e7-a4bec07f90fe button.colab-df-generate');\n",
              "      buttonEl.style.display =\n",
              "        google.colab.kernel.accessAllowed ? 'block' : 'none';\n",
              "\n",
              "      buttonEl.onclick = () => {\n",
              "        google.colab.notebook.generateWithVariable('df_Notas_de_empenho');\n",
              "      }\n",
              "      })();\n",
              "    </script>\n",
              "  </div>\n",
              "\n",
              "    </div>\n",
              "  </div>\n"
            ],
            "application/vnd.google.colaboratory.intrinsic+json": {
              "type": "dataframe",
              "variable_name": "df_Notas_de_empenho",
              "summary": "{\n  \"name\": \"df_Notas_de_empenho\",\n  \"rows\": 1,\n  \"fields\": [\n    {\n      \"column\": \"NE\",\n      \"properties\": {\n        \"dtype\": \"string\",\n        \"num_unique_values\": 1,\n        \"samples\": [\n          \"322\"\n        ],\n        \"semantic_type\": \"\",\n        \"description\": \"\"\n      }\n    },\n    {\n      \"column\": \"CNPJ\",\n      \"properties\": {\n        \"dtype\": \"string\",\n        \"num_unique_values\": 1,\n        \"samples\": [\n          \"13.537.459/0001-70\"\n        ],\n        \"semantic_type\": \"\",\n        \"description\": \"\"\n      }\n    },\n    {\n      \"column\": \"Empresa\",\n      \"properties\": {\n        \"dtype\": \"string\",\n        \"num_unique_values\": 1,\n        \"samples\": [\n          \"2D XAVIER MEDICAMENTOS E PERFUMARIA LTDA\"\n        ],\n        \"semantic_type\": \"\",\n        \"description\": \"\"\n      }\n    },\n    {\n      \"column\": \"Valor\",\n      \"properties\": {\n        \"dtype\": \"string\",\n        \"num_unique_values\": 1,\n        \"samples\": [\n          \"4.569,02\"\n        ],\n        \"semantic_type\": \"\",\n        \"description\": \"\"\n      }\n    },\n    {\n      \"column\": \"Email\",\n      \"properties\": {\n        \"dtype\": \"string\",\n        \"num_unique_values\": 1,\n        \"samples\": [\n          \"nao_encontrado\"\n        ],\n        \"semantic_type\": \"\",\n        \"description\": \"\"\n      }\n    }\n  ]\n}"
            }
          },
          "metadata": {},
          "execution_count": 129
        }
      ],
      "source": [
        "#pegar os emails\n",
        "\n",
        "import re\n",
        "\n",
        "emails = []\n",
        "\n",
        "for i in range (df_Notas_de_empenho.shape[0]):\n",
        "  emails.append(\"nao_encontrado\")\n",
        "\n",
        "for i in range (df_Notas_de_empenho.shape[0]):\n",
        "  # String a ser encontrada\n",
        "  company_name = df_Notas_de_empenho['Empresa'][i]\n",
        "  stop_phrase = 'Solicito análise das propostas'\n",
        " # stop_phrase = 'Validade da proposta'\n",
        "\n",
        "  # Regex para encontrar um email\n",
        "  email_pattern = r'[a-zA-Z0-9._%+-]+@[a-zA-Z0-9.-]+\\.[a-zA-Z]{2,}'\n",
        "  # Encontrar a posição da frase que limita a busca\n",
        "  stop_index = textPDF.find(stop_phrase)\n",
        "\n",
        "  if stop_index != -1:\n",
        "      # Obter o texto antes da frase de parada\n",
        "      text_before_stop = textPDF[:stop_index]\n",
        "      # Encontrar o nome da empresa no texto\n",
        "      company_match_name = re.search(re.escape(company_name), text_before_stop)\n",
        "\n",
        "      if company_match_name:\n",
        "          # Obter o texto após a empresa\n",
        "          text_after_company_name = text_before_stop[company_match_name.end():]\n",
        "          # Procurar o primeiro email no texto subsequente\n",
        "          email_match = re.search(email_pattern, text_after_company_name)\n",
        "          if email_match:\n",
        "              emails[i] = email_match.group()\n",
        "\n",
        "  else:\n",
        "      print(\"Frase de parada não encontrada no texto.\")\n",
        "\n",
        "for i in range (df_Notas_de_empenho.shape[0]):\n",
        "  # String a ser encontrada\n",
        "  company_cnpj = df_Notas_de_empenho['CNPJ'][i]\n",
        "  stop_phrase = 'Solicito análise das propostas'\n",
        "\n",
        "  # Regex para encontrar um email\n",
        "  email_pattern = r'[a-zA-Z0-9._%+-]+@[a-zA-Z0-9.-]+\\.[a-zA-Z]{2,}'\n",
        "  # Encontrar a posição da frase que limita a busca\n",
        "  stop_index = textPDF.find(stop_phrase)\n",
        "\n",
        "  if stop_index != -1:\n",
        "      # Obter o texto antes da frase de parada\n",
        "      text_before_stop = textPDF[:stop_index]\n",
        "\n",
        "      # Encontrar o cnpj da empresa no texto\n",
        "      company_match_cnpj = re.search(re.escape(company_cnpj), text_before_stop)\n",
        "\n",
        "      if company_match_cnpj:\n",
        "          # Obter o texto após a empresa\n",
        "          text_after_company_cnpj = text_before_stop[company_match_cnpj.end():]\n",
        "          # Procurar o primeiro email no texto subsequente\n",
        "          email_match = re.search(email_pattern, text_after_company_cnpj)\n",
        "\n",
        "          if email_match:\n",
        "            if emails[i] == \"nao_encontrado\":\n",
        "              emails[i] = email_match.group()\n",
        "\n",
        "\n",
        "  else:\n",
        "      print(\"Frase de parada não encontrada no texto.\")\n",
        "\n",
        "df_Notas_de_empenho['Email'] = [email.lower() for email in emails]\n",
        "df_Notas_de_empenho\n"
      ]
    },
    {
      "cell_type": "markdown",
      "source": [
        "Fazer outra busca e listar todos os emails existentes no processo exceto os que contiverem \"tre-rn\""
      ],
      "metadata": {
        "id": "lMzo1G6mMn6A"
      }
    },
    {
      "cell_type": "code",
      "execution_count": null,
      "metadata": {
        "colab": {
          "base_uri": "https://localhost:8080/"
        },
        "id": "krlPOBXWg9Rn",
        "outputId": "f5f37be0-77f4-4f60-bb84-8d67a4f40d71"
      },
      "outputs": [
        {
          "output_type": "stream",
          "name": "stdout",
          "text": [
            "['sac@drogalider.com.br', 'sac@pmenos.com.br', 'comercial@bigmedica.com.br']\n"
          ]
        }
      ],
      "source": [
        "import re\n",
        "\n",
        "# Expressão regular para encontrar emails\n",
        "email_pattern = r'\\b[A-Za-z0-9._%+-]+@[A-Za-z0-9.-]+\\.[A-Z|a-z]{2,}\\b'\n",
        "\n",
        "# Encontrar todos os emails no texto\n",
        "emails = re.findall(email_pattern, textPDF)\n",
        "emails = list(set(emails))\n",
        "\n",
        "# Remover os emails que forem do 'tre-rn'\n",
        "filtered_emails = [item for item in emails if 'tre-rn' not in item]\n",
        "\n",
        "email_minusculas = []\n",
        "for string in filtered_emails:\n",
        "    email_minusculas.append(string.lower())\n",
        "\n",
        "email_minusculas = list(set(email_minusculas))\n",
        "# Exibir os emails encontrados\n",
        "pprint.pprint(email_minusculas)\n"
      ]
    },
    {
      "cell_type": "code",
      "source": [
        "def mostra_emails(lista_emails):\n",
        "  for i in range (len(lista_emails)):\n",
        "    print(f\"{i+1}: {lista_emails[i]}\")"
      ],
      "metadata": {
        "id": "Tb9DtiCO4lus"
      },
      "execution_count": null,
      "outputs": []
    },
    {
      "cell_type": "code",
      "source": [
        "emails_verificados = []\n",
        "for i in range (df_Notas_de_empenho.shape[0]):\n",
        "  if df_Notas_de_empenho['Empresa'][i] not in emails_verificados:\n",
        "    print(f\"O email encontrado para a empresa {df_Notas_de_empenho['Empresa'][i]} é o email {df_Notas_de_empenho['Email'][i]}\")\n",
        "    necessidade_correcao = input(\"É necessário corrigir? (s/n)\")\n",
        "    necessidade_correcao = necessidade_correcao.lower()\n",
        "    if necessidade_correcao == 's':\n",
        "      mostra_emails(email_minusculas)\n",
        "      n = int(input(f\"Digite o número o email para setar na Empresa: {df_Notas_de_empenho['Empresa'][i]}\\nCaso não esteja listado o email desejado digite 0\\n\"))\n",
        "      #print(\"Caso não esteja listado o email desejado digite 0\")\n",
        "\n",
        "      emails_verificados.append(df_Notas_de_empenho['Empresa'][i])\n",
        "      if n > 0:\n",
        "          df_Notas_de_empenho.loc[df_Notas_de_empenho['Empresa'] == df_Notas_de_empenho['Empresa'][i], 'Email'] = email_minusculas[n-1]\n",
        "\n",
        "\n",
        "\n",
        "df_Notas_de_empenho"
      ],
      "metadata": {
        "colab": {
          "base_uri": "https://localhost:8080/",
          "height": 244
        },
        "id": "sh4dqbBH3hEw",
        "outputId": "27f664b0-c2eb-4b9b-b14a-1299dfc2e07d"
      },
      "execution_count": null,
      "outputs": [
        {
          "name": "stdout",
          "output_type": "stream",
          "text": [
            "O email encontrado para a empresa 2D XAVIER MEDICAMENTOS E PERFUMARIA LTDA é o email nao_encontrado\n",
            "É necessário corrigir? (s/n)s\n",
            "1: sac@drogalider.com.br\n",
            "2: sac@pmenos.com.br\n",
            "3: comercial@bigmedica.com.br\n",
            "Digite o número o email para setar na Empresa: 2D XAVIER MEDICAMENTOS E PERFUMARIA LTDA\n",
            "Caso não esteja listado o email desejado digite 0\n",
            "3\n"
          ]
        },
        {
          "output_type": "execute_result",
          "data": {
            "text/plain": [
              "    NE                CNPJ                                   Empresa  \\\n",
              "0  322  13.537.459/0001-70  2D XAVIER MEDICAMENTOS E PERFUMARIA LTDA   \n",
              "\n",
              "      Valor                       Email  \n",
              "0  4.569,02  comercial@bigmedica.com.br  "
            ],
            "text/html": [
              "\n",
              "  <div id=\"df-9a01109b-6edf-4374-bb83-7899b992dc8b\" class=\"colab-df-container\">\n",
              "    <div>\n",
              "<style scoped>\n",
              "    .dataframe tbody tr th:only-of-type {\n",
              "        vertical-align: middle;\n",
              "    }\n",
              "\n",
              "    .dataframe tbody tr th {\n",
              "        vertical-align: top;\n",
              "    }\n",
              "\n",
              "    .dataframe thead th {\n",
              "        text-align: right;\n",
              "    }\n",
              "</style>\n",
              "<table border=\"1\" class=\"dataframe\">\n",
              "  <thead>\n",
              "    <tr style=\"text-align: right;\">\n",
              "      <th></th>\n",
              "      <th>NE</th>\n",
              "      <th>CNPJ</th>\n",
              "      <th>Empresa</th>\n",
              "      <th>Valor</th>\n",
              "      <th>Email</th>\n",
              "    </tr>\n",
              "  </thead>\n",
              "  <tbody>\n",
              "    <tr>\n",
              "      <th>0</th>\n",
              "      <td>322</td>\n",
              "      <td>13.537.459/0001-70</td>\n",
              "      <td>2D XAVIER MEDICAMENTOS E PERFUMARIA LTDA</td>\n",
              "      <td>4.569,02</td>\n",
              "      <td>comercial@bigmedica.com.br</td>\n",
              "    </tr>\n",
              "  </tbody>\n",
              "</table>\n",
              "</div>\n",
              "    <div class=\"colab-df-buttons\">\n",
              "\n",
              "  <div class=\"colab-df-container\">\n",
              "    <button class=\"colab-df-convert\" onclick=\"convertToInteractive('df-9a01109b-6edf-4374-bb83-7899b992dc8b')\"\n",
              "            title=\"Convert this dataframe to an interactive table.\"\n",
              "            style=\"display:none;\">\n",
              "\n",
              "  <svg xmlns=\"http://www.w3.org/2000/svg\" height=\"24px\" viewBox=\"0 -960 960 960\">\n",
              "    <path d=\"M120-120v-720h720v720H120Zm60-500h600v-160H180v160Zm220 220h160v-160H400v160Zm0 220h160v-160H400v160ZM180-400h160v-160H180v160Zm440 0h160v-160H620v160ZM180-180h160v-160H180v160Zm440 0h160v-160H620v160Z\"/>\n",
              "  </svg>\n",
              "    </button>\n",
              "\n",
              "  <style>\n",
              "    .colab-df-container {\n",
              "      display:flex;\n",
              "      gap: 12px;\n",
              "    }\n",
              "\n",
              "    .colab-df-convert {\n",
              "      background-color: #E8F0FE;\n",
              "      border: none;\n",
              "      border-radius: 50%;\n",
              "      cursor: pointer;\n",
              "      display: none;\n",
              "      fill: #1967D2;\n",
              "      height: 32px;\n",
              "      padding: 0 0 0 0;\n",
              "      width: 32px;\n",
              "    }\n",
              "\n",
              "    .colab-df-convert:hover {\n",
              "      background-color: #E2EBFA;\n",
              "      box-shadow: 0px 1px 2px rgba(60, 64, 67, 0.3), 0px 1px 3px 1px rgba(60, 64, 67, 0.15);\n",
              "      fill: #174EA6;\n",
              "    }\n",
              "\n",
              "    .colab-df-buttons div {\n",
              "      margin-bottom: 4px;\n",
              "    }\n",
              "\n",
              "    [theme=dark] .colab-df-convert {\n",
              "      background-color: #3B4455;\n",
              "      fill: #D2E3FC;\n",
              "    }\n",
              "\n",
              "    [theme=dark] .colab-df-convert:hover {\n",
              "      background-color: #434B5C;\n",
              "      box-shadow: 0px 1px 3px 1px rgba(0, 0, 0, 0.15);\n",
              "      filter: drop-shadow(0px 1px 2px rgba(0, 0, 0, 0.3));\n",
              "      fill: #FFFFFF;\n",
              "    }\n",
              "  </style>\n",
              "\n",
              "    <script>\n",
              "      const buttonEl =\n",
              "        document.querySelector('#df-9a01109b-6edf-4374-bb83-7899b992dc8b button.colab-df-convert');\n",
              "      buttonEl.style.display =\n",
              "        google.colab.kernel.accessAllowed ? 'block' : 'none';\n",
              "\n",
              "      async function convertToInteractive(key) {\n",
              "        const element = document.querySelector('#df-9a01109b-6edf-4374-bb83-7899b992dc8b');\n",
              "        const dataTable =\n",
              "          await google.colab.kernel.invokeFunction('convertToInteractive',\n",
              "                                                    [key], {});\n",
              "        if (!dataTable) return;\n",
              "\n",
              "        const docLinkHtml = 'Like what you see? Visit the ' +\n",
              "          '<a target=\"_blank\" href=https://colab.research.google.com/notebooks/data_table.ipynb>data table notebook</a>'\n",
              "          + ' to learn more about interactive tables.';\n",
              "        element.innerHTML = '';\n",
              "        dataTable['output_type'] = 'display_data';\n",
              "        await google.colab.output.renderOutput(dataTable, element);\n",
              "        const docLink = document.createElement('div');\n",
              "        docLink.innerHTML = docLinkHtml;\n",
              "        element.appendChild(docLink);\n",
              "      }\n",
              "    </script>\n",
              "  </div>\n",
              "\n",
              "\n",
              "  <div id=\"id_13592386-d9b7-4792-963f-12ee6968d414\">\n",
              "    <style>\n",
              "      .colab-df-generate {\n",
              "        background-color: #E8F0FE;\n",
              "        border: none;\n",
              "        border-radius: 50%;\n",
              "        cursor: pointer;\n",
              "        display: none;\n",
              "        fill: #1967D2;\n",
              "        height: 32px;\n",
              "        padding: 0 0 0 0;\n",
              "        width: 32px;\n",
              "      }\n",
              "\n",
              "      .colab-df-generate:hover {\n",
              "        background-color: #E2EBFA;\n",
              "        box-shadow: 0px 1px 2px rgba(60, 64, 67, 0.3), 0px 1px 3px 1px rgba(60, 64, 67, 0.15);\n",
              "        fill: #174EA6;\n",
              "      }\n",
              "\n",
              "      [theme=dark] .colab-df-generate {\n",
              "        background-color: #3B4455;\n",
              "        fill: #D2E3FC;\n",
              "      }\n",
              "\n",
              "      [theme=dark] .colab-df-generate:hover {\n",
              "        background-color: #434B5C;\n",
              "        box-shadow: 0px 1px 3px 1px rgba(0, 0, 0, 0.15);\n",
              "        filter: drop-shadow(0px 1px 2px rgba(0, 0, 0, 0.3));\n",
              "        fill: #FFFFFF;\n",
              "      }\n",
              "    </style>\n",
              "    <button class=\"colab-df-generate\" onclick=\"generateWithVariable('df_Notas_de_empenho')\"\n",
              "            title=\"Generate code using this dataframe.\"\n",
              "            style=\"display:none;\">\n",
              "\n",
              "  <svg xmlns=\"http://www.w3.org/2000/svg\" height=\"24px\"viewBox=\"0 0 24 24\"\n",
              "       width=\"24px\">\n",
              "    <path d=\"M7,19H8.4L18.45,9,17,7.55,7,17.6ZM5,21V16.75L18.45,3.32a2,2,0,0,1,2.83,0l1.4,1.43a1.91,1.91,0,0,1,.58,1.4,1.91,1.91,0,0,1-.58,1.4L9.25,21ZM18.45,9,17,7.55Zm-12,3A5.31,5.31,0,0,0,4.9,8.1,5.31,5.31,0,0,0,1,6.5,5.31,5.31,0,0,0,4.9,4.9,5.31,5.31,0,0,0,6.5,1,5.31,5.31,0,0,0,8.1,4.9,5.31,5.31,0,0,0,12,6.5,5.46,5.46,0,0,0,6.5,12Z\"/>\n",
              "  </svg>\n",
              "    </button>\n",
              "    <script>\n",
              "      (() => {\n",
              "      const buttonEl =\n",
              "        document.querySelector('#id_13592386-d9b7-4792-963f-12ee6968d414 button.colab-df-generate');\n",
              "      buttonEl.style.display =\n",
              "        google.colab.kernel.accessAllowed ? 'block' : 'none';\n",
              "\n",
              "      buttonEl.onclick = () => {\n",
              "        google.colab.notebook.generateWithVariable('df_Notas_de_empenho');\n",
              "      }\n",
              "      })();\n",
              "    </script>\n",
              "  </div>\n",
              "\n",
              "    </div>\n",
              "  </div>\n"
            ],
            "application/vnd.google.colaboratory.intrinsic+json": {
              "type": "dataframe",
              "variable_name": "df_Notas_de_empenho",
              "summary": "{\n  \"name\": \"df_Notas_de_empenho\",\n  \"rows\": 1,\n  \"fields\": [\n    {\n      \"column\": \"NE\",\n      \"properties\": {\n        \"dtype\": \"string\",\n        \"num_unique_values\": 1,\n        \"samples\": [\n          \"322\"\n        ],\n        \"semantic_type\": \"\",\n        \"description\": \"\"\n      }\n    },\n    {\n      \"column\": \"CNPJ\",\n      \"properties\": {\n        \"dtype\": \"string\",\n        \"num_unique_values\": 1,\n        \"samples\": [\n          \"13.537.459/0001-70\"\n        ],\n        \"semantic_type\": \"\",\n        \"description\": \"\"\n      }\n    },\n    {\n      \"column\": \"Empresa\",\n      \"properties\": {\n        \"dtype\": \"string\",\n        \"num_unique_values\": 1,\n        \"samples\": [\n          \"2D XAVIER MEDICAMENTOS E PERFUMARIA LTDA\"\n        ],\n        \"semantic_type\": \"\",\n        \"description\": \"\"\n      }\n    },\n    {\n      \"column\": \"Valor\",\n      \"properties\": {\n        \"dtype\": \"string\",\n        \"num_unique_values\": 1,\n        \"samples\": [\n          \"4.569,02\"\n        ],\n        \"semantic_type\": \"\",\n        \"description\": \"\"\n      }\n    },\n    {\n      \"column\": \"Email\",\n      \"properties\": {\n        \"dtype\": \"string\",\n        \"num_unique_values\": 1,\n        \"samples\": [\n          \"comercial@bigmedica.com.br\"\n        ],\n        \"semantic_type\": \"\",\n        \"description\": \"\"\n      }\n    }\n  ]\n}"
            }
          },
          "metadata": {},
          "execution_count": 132
        }
      ]
    },
    {
      "cell_type": "markdown",
      "source": [
        "Inserir manualmente **digitando** algum email que não tenha sido capturado"
      ],
      "metadata": {
        "id": "NZGlEITtVLfX"
      }
    },
    {
      "cell_type": "code",
      "source": [
        "#para inserir manualmente digitando algum email que não tenha sido capturado\n",
        "\n",
        "empresas_nao_encontrado = df_Notas_de_empenho.loc[df_Notas_de_empenho['Email'] == 'nao_encontrado', 'Empresa']\n",
        "if len(empresas_nao_encontrado) > 0:\n",
        "  empresas_nao_encontrado.reset_index(drop=True, inplace=True)\n",
        "  print(\"Os email das seguinte empresas não foram inseridos:\")\n",
        "  print(empresas_nao_encontrado)\n",
        "  for i in range (len(empresas_nao_encontrado)):\n",
        "    email_para_inserir = input(f\"Digite o email da empresa {empresas_nao_encontrado[i]} para inserção manual: \")\n",
        "    df_Notas_de_empenho.loc[df_Notas_de_empenho['Empresa'] == empresas_nao_encontrado[i], 'Email'] = email_para_inserir\n",
        "\n",
        "df_Notas_de_empenho"
      ],
      "metadata": {
        "colab": {
          "base_uri": "https://localhost:8080/",
          "height": 98
        },
        "id": "NGaP251Q2s4s",
        "outputId": "f445fbf9-3492-47ed-ef92-3d2f204f7ec0"
      },
      "execution_count": null,
      "outputs": [
        {
          "output_type": "execute_result",
          "data": {
            "text/plain": [
              "    NE                CNPJ                                   Empresa  \\\n",
              "0  322  13.537.459/0001-70  2D XAVIER MEDICAMENTOS E PERFUMARIA LTDA   \n",
              "\n",
              "      Valor                       Email  \n",
              "0  4.569,02  comercial@bigmedica.com.br  "
            ],
            "text/html": [
              "\n",
              "  <div id=\"df-1ac05afe-1e7b-4020-b95e-38995411f292\" class=\"colab-df-container\">\n",
              "    <div>\n",
              "<style scoped>\n",
              "    .dataframe tbody tr th:only-of-type {\n",
              "        vertical-align: middle;\n",
              "    }\n",
              "\n",
              "    .dataframe tbody tr th {\n",
              "        vertical-align: top;\n",
              "    }\n",
              "\n",
              "    .dataframe thead th {\n",
              "        text-align: right;\n",
              "    }\n",
              "</style>\n",
              "<table border=\"1\" class=\"dataframe\">\n",
              "  <thead>\n",
              "    <tr style=\"text-align: right;\">\n",
              "      <th></th>\n",
              "      <th>NE</th>\n",
              "      <th>CNPJ</th>\n",
              "      <th>Empresa</th>\n",
              "      <th>Valor</th>\n",
              "      <th>Email</th>\n",
              "    </tr>\n",
              "  </thead>\n",
              "  <tbody>\n",
              "    <tr>\n",
              "      <th>0</th>\n",
              "      <td>322</td>\n",
              "      <td>13.537.459/0001-70</td>\n",
              "      <td>2D XAVIER MEDICAMENTOS E PERFUMARIA LTDA</td>\n",
              "      <td>4.569,02</td>\n",
              "      <td>comercial@bigmedica.com.br</td>\n",
              "    </tr>\n",
              "  </tbody>\n",
              "</table>\n",
              "</div>\n",
              "    <div class=\"colab-df-buttons\">\n",
              "\n",
              "  <div class=\"colab-df-container\">\n",
              "    <button class=\"colab-df-convert\" onclick=\"convertToInteractive('df-1ac05afe-1e7b-4020-b95e-38995411f292')\"\n",
              "            title=\"Convert this dataframe to an interactive table.\"\n",
              "            style=\"display:none;\">\n",
              "\n",
              "  <svg xmlns=\"http://www.w3.org/2000/svg\" height=\"24px\" viewBox=\"0 -960 960 960\">\n",
              "    <path d=\"M120-120v-720h720v720H120Zm60-500h600v-160H180v160Zm220 220h160v-160H400v160Zm0 220h160v-160H400v160ZM180-400h160v-160H180v160Zm440 0h160v-160H620v160ZM180-180h160v-160H180v160Zm440 0h160v-160H620v160Z\"/>\n",
              "  </svg>\n",
              "    </button>\n",
              "\n",
              "  <style>\n",
              "    .colab-df-container {\n",
              "      display:flex;\n",
              "      gap: 12px;\n",
              "    }\n",
              "\n",
              "    .colab-df-convert {\n",
              "      background-color: #E8F0FE;\n",
              "      border: none;\n",
              "      border-radius: 50%;\n",
              "      cursor: pointer;\n",
              "      display: none;\n",
              "      fill: #1967D2;\n",
              "      height: 32px;\n",
              "      padding: 0 0 0 0;\n",
              "      width: 32px;\n",
              "    }\n",
              "\n",
              "    .colab-df-convert:hover {\n",
              "      background-color: #E2EBFA;\n",
              "      box-shadow: 0px 1px 2px rgba(60, 64, 67, 0.3), 0px 1px 3px 1px rgba(60, 64, 67, 0.15);\n",
              "      fill: #174EA6;\n",
              "    }\n",
              "\n",
              "    .colab-df-buttons div {\n",
              "      margin-bottom: 4px;\n",
              "    }\n",
              "\n",
              "    [theme=dark] .colab-df-convert {\n",
              "      background-color: #3B4455;\n",
              "      fill: #D2E3FC;\n",
              "    }\n",
              "\n",
              "    [theme=dark] .colab-df-convert:hover {\n",
              "      background-color: #434B5C;\n",
              "      box-shadow: 0px 1px 3px 1px rgba(0, 0, 0, 0.15);\n",
              "      filter: drop-shadow(0px 1px 2px rgba(0, 0, 0, 0.3));\n",
              "      fill: #FFFFFF;\n",
              "    }\n",
              "  </style>\n",
              "\n",
              "    <script>\n",
              "      const buttonEl =\n",
              "        document.querySelector('#df-1ac05afe-1e7b-4020-b95e-38995411f292 button.colab-df-convert');\n",
              "      buttonEl.style.display =\n",
              "        google.colab.kernel.accessAllowed ? 'block' : 'none';\n",
              "\n",
              "      async function convertToInteractive(key) {\n",
              "        const element = document.querySelector('#df-1ac05afe-1e7b-4020-b95e-38995411f292');\n",
              "        const dataTable =\n",
              "          await google.colab.kernel.invokeFunction('convertToInteractive',\n",
              "                                                    [key], {});\n",
              "        if (!dataTable) return;\n",
              "\n",
              "        const docLinkHtml = 'Like what you see? Visit the ' +\n",
              "          '<a target=\"_blank\" href=https://colab.research.google.com/notebooks/data_table.ipynb>data table notebook</a>'\n",
              "          + ' to learn more about interactive tables.';\n",
              "        element.innerHTML = '';\n",
              "        dataTable['output_type'] = 'display_data';\n",
              "        await google.colab.output.renderOutput(dataTable, element);\n",
              "        const docLink = document.createElement('div');\n",
              "        docLink.innerHTML = docLinkHtml;\n",
              "        element.appendChild(docLink);\n",
              "      }\n",
              "    </script>\n",
              "  </div>\n",
              "\n",
              "\n",
              "  <div id=\"id_ddc2244e-ef6d-469b-99e8-665bfb3c82f4\">\n",
              "    <style>\n",
              "      .colab-df-generate {\n",
              "        background-color: #E8F0FE;\n",
              "        border: none;\n",
              "        border-radius: 50%;\n",
              "        cursor: pointer;\n",
              "        display: none;\n",
              "        fill: #1967D2;\n",
              "        height: 32px;\n",
              "        padding: 0 0 0 0;\n",
              "        width: 32px;\n",
              "      }\n",
              "\n",
              "      .colab-df-generate:hover {\n",
              "        background-color: #E2EBFA;\n",
              "        box-shadow: 0px 1px 2px rgba(60, 64, 67, 0.3), 0px 1px 3px 1px rgba(60, 64, 67, 0.15);\n",
              "        fill: #174EA6;\n",
              "      }\n",
              "\n",
              "      [theme=dark] .colab-df-generate {\n",
              "        background-color: #3B4455;\n",
              "        fill: #D2E3FC;\n",
              "      }\n",
              "\n",
              "      [theme=dark] .colab-df-generate:hover {\n",
              "        background-color: #434B5C;\n",
              "        box-shadow: 0px 1px 3px 1px rgba(0, 0, 0, 0.15);\n",
              "        filter: drop-shadow(0px 1px 2px rgba(0, 0, 0, 0.3));\n",
              "        fill: #FFFFFF;\n",
              "      }\n",
              "    </style>\n",
              "    <button class=\"colab-df-generate\" onclick=\"generateWithVariable('df_Notas_de_empenho')\"\n",
              "            title=\"Generate code using this dataframe.\"\n",
              "            style=\"display:none;\">\n",
              "\n",
              "  <svg xmlns=\"http://www.w3.org/2000/svg\" height=\"24px\"viewBox=\"0 0 24 24\"\n",
              "       width=\"24px\">\n",
              "    <path d=\"M7,19H8.4L18.45,9,17,7.55,7,17.6ZM5,21V16.75L18.45,3.32a2,2,0,0,1,2.83,0l1.4,1.43a1.91,1.91,0,0,1,.58,1.4,1.91,1.91,0,0,1-.58,1.4L9.25,21ZM18.45,9,17,7.55Zm-12,3A5.31,5.31,0,0,0,4.9,8.1,5.31,5.31,0,0,0,1,6.5,5.31,5.31,0,0,0,4.9,4.9,5.31,5.31,0,0,0,6.5,1,5.31,5.31,0,0,0,8.1,4.9,5.31,5.31,0,0,0,12,6.5,5.46,5.46,0,0,0,6.5,12Z\"/>\n",
              "  </svg>\n",
              "    </button>\n",
              "    <script>\n",
              "      (() => {\n",
              "      const buttonEl =\n",
              "        document.querySelector('#id_ddc2244e-ef6d-469b-99e8-665bfb3c82f4 button.colab-df-generate');\n",
              "      buttonEl.style.display =\n",
              "        google.colab.kernel.accessAllowed ? 'block' : 'none';\n",
              "\n",
              "      buttonEl.onclick = () => {\n",
              "        google.colab.notebook.generateWithVariable('df_Notas_de_empenho');\n",
              "      }\n",
              "      })();\n",
              "    </script>\n",
              "  </div>\n",
              "\n",
              "    </div>\n",
              "  </div>\n"
            ],
            "application/vnd.google.colaboratory.intrinsic+json": {
              "type": "dataframe",
              "variable_name": "df_Notas_de_empenho",
              "summary": "{\n  \"name\": \"df_Notas_de_empenho\",\n  \"rows\": 1,\n  \"fields\": [\n    {\n      \"column\": \"NE\",\n      \"properties\": {\n        \"dtype\": \"string\",\n        \"num_unique_values\": 1,\n        \"samples\": [\n          \"322\"\n        ],\n        \"semantic_type\": \"\",\n        \"description\": \"\"\n      }\n    },\n    {\n      \"column\": \"CNPJ\",\n      \"properties\": {\n        \"dtype\": \"string\",\n        \"num_unique_values\": 1,\n        \"samples\": [\n          \"13.537.459/0001-70\"\n        ],\n        \"semantic_type\": \"\",\n        \"description\": \"\"\n      }\n    },\n    {\n      \"column\": \"Empresa\",\n      \"properties\": {\n        \"dtype\": \"string\",\n        \"num_unique_values\": 1,\n        \"samples\": [\n          \"2D XAVIER MEDICAMENTOS E PERFUMARIA LTDA\"\n        ],\n        \"semantic_type\": \"\",\n        \"description\": \"\"\n      }\n    },\n    {\n      \"column\": \"Valor\",\n      \"properties\": {\n        \"dtype\": \"string\",\n        \"num_unique_values\": 1,\n        \"samples\": [\n          \"4.569,02\"\n        ],\n        \"semantic_type\": \"\",\n        \"description\": \"\"\n      }\n    },\n    {\n      \"column\": \"Email\",\n      \"properties\": {\n        \"dtype\": \"string\",\n        \"num_unique_values\": 1,\n        \"samples\": [\n          \"comercial@bigmedica.com.br\"\n        ],\n        \"semantic_type\": \"\",\n        \"description\": \"\"\n      }\n    }\n  ]\n}"
            }
          },
          "metadata": {},
          "execution_count": 133
        }
      ]
    },
    {
      "cell_type": "markdown",
      "source": [
        "Início de criação das mensagens para envio das Notas de Empenho"
      ],
      "metadata": {
        "id": "MVuF0bWAC-zj"
      }
    },
    {
      "cell_type": "code",
      "execution_count": null,
      "metadata": {
        "colab": {
          "base_uri": "https://localhost:8080/"
        },
        "id": "Ew0loaM9nOhR",
        "outputId": "bfaa4d8b-54b6-4408-cdeb-2de68f4897f4"
      },
      "outputs": [
        {
          "output_type": "stream",
          "name": "stdout",
          "text": [
            "{'2D XAVIER MEDICAMENTOS E PERFUMARIA LTDA': ['322']}\n"
          ]
        }
      ],
      "source": [
        "\n",
        "empresas = df_Notas_de_empenho['Empresa'].unique()  # Obter valores únicos da coluna \"Empresa\"\n",
        "\n",
        "# Criar um dicionário com listas vazias, onde as chaves são os nomes das empresas\n",
        "listas_empresas = {empresa: [] for empresa in empresas}\n",
        "\n",
        "# Iterar sobre o DataFrame e preencher as listas com os números da coluna \"NE\"\n",
        "for _, row in df_Notas_de_empenho.iterrows():\n",
        "    empresa = row['Empresa']\n",
        "    ne = row['NE']\n",
        "    listas_empresas[empresa].append(ne)\n",
        "\n",
        "# Exibir o dicionário preenchido\n",
        "print(listas_empresas)\n",
        "\n"
      ]
    },
    {
      "cell_type": "code",
      "execution_count": null,
      "metadata": {
        "colab": {
          "base_uri": "https://localhost:8080/"
        },
        "collapsed": true,
        "id": "fsk7eTZ1M_iD",
        "outputId": "f04c0150-04a6-4c74-a33f-19d0eda90327"
      },
      "outputs": [
        {
          "output_type": "stream",
          "name": "stdout",
          "text": [
            "Prezados(as) Senhores(as),\n",
            "\n",
            "Encaminhamos a Nota de Empenho número 2024NE000322 (em anexo), à empresa 2D XAVIER MEDICAMENTOS E PERFUMARIA LTDA.\n",
            "Informamos que o prazo para entrega do material é de até 30 (trinta) dias corridos, contados a partir da data de envio\n",
            "desta Nota de Empenho.\n",
            "Solicitamos especial atenção quanto ao PRAZO, LOCAL e HORÁRIO para entrega do material.\n",
            "A entrega deverá ser realizada na Seção de Assistência Médica e Saúde Ocupacional (SAMS), localizada na Sede\n",
            "Administrativa do TRE/RN. Endereço: Av. Rui Barbosa, 215. Tirol, Natal-RN. CEP: 59.015-290. Telefone: (84) 3654-\n",
            "5399, nos horários de segunda a quinta-feira, das 13 às 18 horas ou na sexta-feira, das 8 às 13 horas.\n",
            "FAVOR CONFIRMAR RECEBIMENTO DESTE E-MAIL enviando resposta para o email sams@tre-rn.jus.br\n",
            "\n",
            "Atenciosamente,\n",
            "Flávio Roberto Guerra Seabra\n",
            "SAMS - TRE-RN, 24/10/2024.\n",
            "                      \n",
            "----------------------------------------\n"
          ]
        }
      ],
      "source": [
        "from datetime import datetime\n",
        "\n",
        "# Obter a data atual\n",
        "current_date = datetime.now()\n",
        "\n",
        "# Formatar o dia, mês e ano como strings\n",
        "formatted_date = f\"SAMS - TRE-RN, {current_date.day}/{current_date.month}/{current_date.year}.\"\n",
        "\n",
        "# Função para criar e-mails\n",
        "def criar_emails(empresas):\n",
        "    emails = []\n",
        "    for empresa, numeros in empresas.items():\n",
        "        for numero in numeros:\n",
        "\n",
        "            num_NE = f'{current_date.year}NE000{numero}'\n",
        "            email = f\"\"\"Prezados(as) Senhores(as),\n",
        "\n",
        "Encaminhamos a Nota de Empenho número {num_NE} (em anexo), à empresa {empresa}.\n",
        "Informamos que o prazo para entrega do material é de até 30 (trinta) dias corridos, contados a partir da data de envio\n",
        "desta Nota de Empenho.\n",
        "Solicitamos especial atenção quanto ao PRAZO, LOCAL e HORÁRIO para entrega do material.\n",
        "A entrega deverá ser realizada na Seção de Assistência Médica e Saúde Ocupacional (SAMS), localizada na Sede\n",
        "Administrativa do TRE/RN. Endereço: Av. Rui Barbosa, 215. Tirol, Natal-RN. CEP: 59.015-290. Telefone: (84) 3654-\n",
        "5399, nos horários de segunda a quinta-feira, das 13 às 18 horas ou na sexta-feira, das 8 às 13 horas.\n",
        "FAVOR CONFIRMAR RECEBIMENTO DESTE E-MAIL enviando resposta para o email sams@tre-rn.jus.br\n",
        "\n",
        "Atenciosamente,\n",
        "Flávio Roberto Guerra Seabra\n",
        "{formatted_date}\n",
        "                      \"\"\"\n",
        "            emails.append(email)\n",
        "    return emails\n",
        "\n",
        "# Chamar a função e obter os e-mails\n",
        "emails_gerados = criar_emails(listas_empresas)\n",
        "\n",
        "# Nome do arquivo de saída\n",
        "output_file = 'textos_emails.txt'\n",
        "\n",
        "# Abrir o arquivo para escrita\n",
        "with open(output_file, 'w', encoding='utf-8') as file:\n",
        "\n",
        "# Exibir os e-mails gerados\n",
        "    for email in emails_gerados:\n",
        "        print(email)\n",
        "        file.write(email)\n",
        "        print(\"-\" * 40)\n",
        "        file.write(\"-\" * 40)\n",
        "        file.write(\"\\n\")"
      ]
    },
    {
      "cell_type": "markdown",
      "metadata": {
        "id": "BCSohEFQ84Is"
      },
      "source": [
        "Início de captura dos números dos itens que restaram Desertos e Fracassados no processo licitatório"
      ]
    },
    {
      "cell_type": "code",
      "execution_count": null,
      "metadata": {
        "collapsed": true,
        "id": "TYSKMA9OqU40"
      },
      "outputs": [],
      "source": [
        "import re\n",
        "\n",
        "# Definindo o padrão para capturar o trecho desejado\n",
        "pattern = r'(requisitos legais foram devidamente observados.*?êxito e aguardam adjudicação)'\n",
        "\n",
        "# Encontrar o trecho entre os padrões\n",
        "match = re.search(pattern, textPDF, re.DOTALL)\n",
        "\n",
        "if match:\n",
        "    # Obter o texto completo entre os padrões\n",
        "    parecer_ajdg_homolog = match.group(1).strip()  # O texto entre os dois padrões\n",
        "else:\n",
        "    print(\"Trecho não encontrado.\")"
      ]
    },
    {
      "cell_type": "code",
      "execution_count": null,
      "metadata": {
        "colab": {
          "base_uri": "https://localhost:8080/"
        },
        "id": "6G1VqVtZq3bY",
        "outputId": "077a76f6-18e9-4371-d5e4-b16f4e43c1cd"
      },
      "outputs": [
        {
          "output_type": "stream",
          "name": "stderr",
          "text": [
            "[nltk_data] Downloading package punkt to /root/nltk_data...\n",
            "[nltk_data]   Package punkt is already up-to-date!\n",
            "[nltk_data] Downloading package stopwords to /root/nltk_data...\n",
            "[nltk_data]   Package stopwords is already up-to-date!\n"
          ]
        }
      ],
      "source": [
        "import nltk\n",
        "\n",
        "from nltk.tokenize import word_tokenize\n",
        "from nltk.corpus import stopwords\n",
        "\n",
        "nltk.download('punkt')\n",
        "nltk.download('stopwords')\n",
        "\n",
        "tokens = word_tokenize(parecer_ajdg_homolog)\n",
        "\n",
        "# Remover stopwords\n",
        "stop_words = set(stopwords.words('portuguese'))\n",
        "parecer_ajdg_homolog_tokenizado = [word for word in tokens if word.lower() not in stop_words]\n"
      ]
    },
    {
      "cell_type": "code",
      "execution_count": null,
      "metadata": {
        "id": "2NEPrNOPq3Yn"
      },
      "outputs": [],
      "source": [
        "parecer_ajdg_homolog_tokenizado = [s for s in parecer_ajdg_homolog_tokenizado if s != ',']\n"
      ]
    },
    {
      "cell_type": "code",
      "execution_count": null,
      "metadata": {
        "colab": {
          "base_uri": "https://localhost:8080/"
        },
        "collapsed": true,
        "id": "2uNOEGPCUGcc",
        "outputId": "293d132e-a21c-4e9c-8d78-7641acb9dae6"
      },
      "outputs": [
        {
          "output_type": "stream",
          "name": "stdout",
          "text": [
            "['5', '12', '15', '22']\n",
            "['2']\n"
          ]
        }
      ],
      "source": [
        "lista_desertos = []\n",
        "lista_fracassados = []\n",
        "capturar = False\n",
        "cont = 0\n",
        "# Iterar sobre a lista e substituir 'item' por 'itens'\n",
        "for i in reversed(range(len(parecer_ajdg_homolog_tokenizado))):\n",
        "    if parecer_ajdg_homolog_tokenizado[i].startswith('fracass') and cont == 0:\n",
        "      capturar = True\n",
        "      cont = 1\n",
        "    if capturar == True:\n",
        "      if isinstance(parecer_ajdg_homolog_tokenizado[i], str) and parecer_ajdg_homolog_tokenizado[i].isdigit():\n",
        "        lista_fracassados.append(parecer_ajdg_homolog_tokenizado[i])\n",
        "      if parecer_ajdg_homolog_tokenizado[i] == 'item' or parecer_ajdg_homolog_tokenizado[i] == 'itens' :\n",
        "        capturar = False\n",
        "        #cont = 0\n",
        "\n",
        "cont = 0\n",
        "for i in reversed(range(len(parecer_ajdg_homolog_tokenizado))):\n",
        "    if parecer_ajdg_homolog_tokenizado[i].startswith('desert') and cont == 0:\n",
        "      capturar = True\n",
        "      cont = 1\n",
        "    if capturar == True:\n",
        "      if isinstance(parecer_ajdg_homolog_tokenizado[i], str) and parecer_ajdg_homolog_tokenizado[i].isdigit():\n",
        "        lista_desertos.append(parecer_ajdg_homolog_tokenizado[i])\n",
        "      if parecer_ajdg_homolog_tokenizado[i] == 'item' or parecer_ajdg_homolog_tokenizado[i] == 'itens' :\n",
        "        capturar = False\n",
        "\n",
        "lista_fracassados.reverse()\n",
        "print(lista_fracassados)\n",
        "lista_desertos.reverse()\n",
        "print(lista_desertos)"
      ]
    },
    {
      "cell_type": "markdown",
      "metadata": {
        "id": "git6IFSX9E6W"
      },
      "source": [
        "Final de captura dos números dos itens Desertos e Fracassados\n",
        "\n",
        "listas: **lista_fracassados** e **lista_desertos**"
      ]
    },
    {
      "cell_type": "markdown",
      "metadata": {
        "id": "AObLFo839StG"
      },
      "source": [
        "Iniciar captura dos numeros dos itens do termo de referencia"
      ]
    },
    {
      "cell_type": "code",
      "execution_count": null,
      "metadata": {
        "id": "BicL2rEu9N35"
      },
      "outputs": [],
      "source": [
        "import re\n",
        "\n",
        "# Definindo o padrão para capturar o trecho desejado\n",
        "pattern = r'(ITEM.*?O objeto desta contratação não se enquadra como sendo de bem de luxo)'\n",
        "\n",
        "\n",
        "# Encontrar o trecho entre os padrões\n",
        "match = re.search(pattern, textPDF, re.DOTALL)\n",
        "\n",
        "if match:\n",
        "    # Obter o texto completo entre os padrões\n",
        "    tabela_produtos = match.group(1).strip()  # O texto entre os dois padrões\n",
        "else:\n",
        "    print(\"Trecho não encontrado.\")"
      ]
    },
    {
      "cell_type": "code",
      "execution_count": null,
      "metadata": {
        "id": "gDX6JKw3aL6O"
      },
      "outputs": [],
      "source": [
        "lista_textos_para_remover = [ \"Câmara Nacional de Modelos de Licitações e Contratos da Consultoria-Geral da União\",\n",
        "                              \"Aprovado pela Secretaria de Gestão e Inovação\",\n",
        "                              \"UASG 70008\"\n",
        "                            ]\n",
        "\n",
        "for texto in lista_textos_para_remover:\n",
        "  tabela_produtos = tabela_produtos.replace(texto, \"\")\n",
        "\n",
        "for i in range(1, num_pages + 1):\n",
        "  tabela_produtos = tabela_produtos.replace(f\"/ pg. {i}\", \"\")"
      ]
    },
    {
      "cell_type": "code",
      "execution_count": null,
      "metadata": {
        "id": "gXa7PphYq3QD",
        "colab": {
          "base_uri": "https://localhost:8080/"
        },
        "outputId": "9193fe12-4f16-4b09-9217-0479dbfd7768"
      },
      "outputs": [
        {
          "output_type": "stream",
          "name": "stdout",
          "text": [
            "['ITEM', 'DESCRIÇÃO', 'RESUMIDA', 'OBJETO', 'UNIDADE', 'QUANTIDADE', '1AAS', '–', 'Ácido', 'acetilsalicílico', '100', 'mg', ',', 'acondicionado', 'caixa', '20', 'comprimidos', '(', 'deverá', 'entregue', '1', 'caixa', '20', 'comprimidos', '2', 'envelopes', '10', 'unidades', 'cada', ')', '.Comprimido', '20', '2Adrenalina', '1mg', '–', 'epinefrina', '1', 'mg', 'Ampolas', '1', 'ml', '10', '3Allegra', 'D', '–', 'Cloridrato', 'Fexofenadina', '60', 'mg', '+', 'cloridrato', 'pseudoefedrina', '120', 'mg', '(', 'deverão', 'entregues', '10', 'caixas', '10', 'comprimidos', 'cada', ')', '.Comprimido', '100', '4Allegra', '180', 'mg', '–', 'Cloridrato', 'Fexofenadina', '180', 'mg', ',', 'acondicionado', 'caixa', '10', 'comprimidos', '(', 'deverão', 'entregues', '5', 'caixas', '10', 'comprimidos', 'cada', ')', '.Comprimido', '50', '5Andantol', 'gel', '–', 'Cloridrato', 'Isotipendil', '7.5', 'mg/g', 'Bisnaga', 'c/', '40g', '1', '6Bi-profenid', '150', 'mg', '–', 'Cetoprofeno', '150', 'mg', '(', 'deverão', 'entregues', '10', 'caixas', '10', 'comprimidos', 'cada', ')', '.Comprimido', '100', '7Buscopan', 'Composto', 'Drágeas', '–', 'Brometo', 'N-', 'butilescopolamina+dipirona', 'sódica', ',', 'acondicionado', 'caixa', '20', 'drágeas', '(', 'deverá', 'entregues', '2', 'caixas', '20', 'drágeas', 'cada', ')', '.Drágea', '40', 'Termo', 'referência', '(', '0033773', ')', 'SEI', '03789/2024', 'Termo', 'Referência', '6/2024', 'Modelo', 'TR', 'branco', '—', 'Atualização', ':', '12/2022', '2', '248Buscopan', 'Simples', 'Solução', 'Gotas', '10mg', '(', 'Brometo', 'N-', 'butilescopolamina', '10', 'mg', '-', 'gotas', ')', 'Frasco', 'c/', '20', 'ml', '02', '9Buscoduo', '-', 'butilbrometo', 'escopolamina', '10', 'mg', '+', '500', 'mg', 'paracetamol', '(', 'deverá', 'entregues', '1', 'caixa', '20', 'comprimidos', ')', '.comprimidos', '20', '10Buscopan', 'Simples', 'drágeas', '–', 'Brometo', 'N-', 'butilescopolamina', ',', 'acondicionado', 'caixa', '20', 'drágeas', '(', 'deverão', 'entregues', '2', 'caixas', '20', 'drágeas', 'cada', ')', '.Drágea', '40', '11Captopril', '25', 'mg', 'Comprimidos', ',', 'acondicionado', 'caixa', '30', 'comprimidos', '(', 'deverá', 'entregues', '1', 'caixa', '30', 'comprimidos', ')', '.Comprimido', '30', '12Cefaliv', '-', 'Mesilato', 'di-hidroergotamina', '1', 'mg', '+', 'dipirona', 'monoidratada', '350', 'mg', '+', 'cafeína', '100', 'mg', ',', 'acondicionado', 'caixa', '12', 'comprimidos', '(', 'deverá', 'entregue', '5', 'caixas', '12', 'comprimidos', 'cada', ')', '.Comprimido', '60', '13', 'Decadrom', '4', 'mg', '–', 'dexametasona', '4', 'mg', '(', 'deverão', 'entregues', '5', 'caixas', '10', 'comprimidos', 'cada', ')', 'Comprimido50', '14Dersani', '–', 'loção', 'oleosa', 'base', 'AGE-ácidos', 'graxos', 'essenciais', ',', 'vitamina', 'E.Frasco', 'c/', '200', 'ml', '02', '15Dersani', 'Hidrogel', '-', 'gel', 'hidratante', 'base', 'ácidos', 'graxos', 'vitaminas', 'EBisnaga', '30', 'gramas', '01', '16Dipirona', 'sódica', '500', 'mg', 'c/10', 'comprimidos', '.', '(', 'deverão', 'entregues', '10', 'envelopes', '10', 'comprimidos', 'cada', ')', '.Comprimido', '100', '17Dipirona', 'sódica', '1', 'gr', 'c/10', 'comprimidos', ',', 'acondicionado', 'envelopes', '10', 'comprimidos', '(', 'deverão', 'entregues', '10', 'envelopes', '10', 'comprimidos', 'cada', ')', '.Comprimido', '100', '18Domperidona', '10', 'mg', ',', 'acondicionado', 'caixa', '60', 'comprimidos', '(', 'deverá', 'entregues', '2', 'caixas', '60', 'comprimidos', 'cada', ')', '.Comprimido', '120', '19Dorflex', 'comprimidos', '–Citrato', 'Orfenadrina', '+Dipirona', 'Sódica+Cafeína', 'anidra', ',', 'acondicionado', 'caixa', '36', 'comprimidos', '(', 'deverá', 'entregue', '2', 'caixa', '36', 'comprimidos', 'cada', ')', '.Comprimido', '72', '20Dramin', 'B6', 'Comprimidos', '–', 'Diminidrinato', '50', 'mg+Cloridrato', 'piridoxina', '10', 'mg', '-', 'comprimidos', 'revestidos', ',', 'acondicionado', 'caixa', '30', 'comprimidos', '(', 'deverão', 'entregues', '2', 'caixas', '30', 'comprimidos', 'cada', ')', 'Comprimido', '60', 'Termo', 'referência', '(', '0033773', ')', 'SEI', '03789/2024', 'Termo', 'Referência', '6/2024', 'Modelo', 'TR', 'branco', '—', 'Atualização', ':', '12/2022', '3', '2421', 'Esomeprazol', 'magnésico', 'tri-hidratado', '20', 'mg', ',', 'acondicionado', 'caixa', '28', 'comprimidos', '(', 'deverão', 'entregues', '2', 'caixas', '28', 'comprimidos', 'cadaComprimido', '56', '22', 'Feldene', 'Sublingual', '–', 'piroxicam', '20', 'mg', ',', 'acondicionado', 'caixa', '10', 'comprimidos', 'sublinguais', '(', 'deverão', 'entregues', '3', 'caixas', '10', 'comprimidos', 'sublinguais', 'cada', ')', 'Comprimido', '30', '23Hixizine', '25', 'mg', '–', 'dicloridrato', 'hidroxizina', '25', 'mg', ',', 'acondicionado', 'caixa', '30', 'comprimidos', '(', 'deverá', 'entregue', '2', 'caixas', '30', 'comprimidos', 'cada', ')', '.Comprimido', '60', '24Isordil', 'sublingual-', 'dinitrato', 'isossorbida', '5', 'mg', ',', 'acondicionado', 'caixa', '30', 'comprimidos', 'sublinguais', '(', 'deverá', 'entregue', '1', 'caixa', '30', 'comprimidos', 'sublinguais', ')', '.Comprimido', '30', '25Luftal', '-', 'simeticona', '75', 'mg/mL', ',', '15', 'mL', '.', 'Frasco', '15ml', '02', '26Mirtax', '10', 'mg', 'comprimido', '–', 'Cloridrato', 'ciclobenzaprina', '10', 'mg', ',', 'acondicionado', 'caixa', '15', 'comprimidos', '(', 'deverão', 'entregues', '4', 'caixas', '15', 'comprimidos', 'cada', ')', '.Comprimido', '60', '27Mylanta', 'Plus-', 'Suspensão', 'oral', ',', 'frasco', '240', 'mL', ',', 'contendo', '80', 'mg/mL', 'hidróxido', 'alumínio', 'gel', 'seco', ',', '80', 'mg/mL', 'hidróxido', 'magnésio', '6', 'mg/mL', 'simeticona.Frasco', '240', 'ml', '02', '28Naramig', '2,5mg', '–', 'Cloridrato', 'Naratriptana', ',', 'acondicionado', 'caixa', '04', 'comprimidos', '(', 'deverão', 'entregues', '3', 'caixas', '4', 'comprimidos', 'cada', ')', '.Comprimido', '12', '29Nimesulida', '100', 'mg', ',', 'acondicionado', 'caixa', '10', 'comprimidos', '(', 'deverão', 'entregues', '5', 'caixas', '10', 'comprimidos', 'cada', ')', 'Comprimido', '50', '30', 'Neosaldina', '–', 'Dipirona', '300mg', '+', 'mucato', 'isometepteno', '30', 'mg', '+', 'cafeína', '30', 'mg', ')', ',', 'acondicionado', 'caixa', '20', 'comprimidos', '(', 'deverão', 'entregues', '2', 'caixas', '20', 'comprimidos', 'cada', ')', 'Comprimido', '40', '31Pantoprazol', '20', 'mg', ',', 'acondicionado', 'caixa', '42', 'comprimidos', '(', 'deverão', 'entregues', '3', 'caixas', '28', 'comprimidos', 'cada', ')', '.Comprimido', '84', '32Paracetamol', '750', 'mg', ',', 'acondicionado', 'caixa', '20', 'comprimidos', '(', 'deverão', 'entregues', '2', 'caixas', '20', 'comprimidos', 'cada', ')', '.Comprimido', '40', '33Pepsamar-', 'hidróxido', 'alumínio', '230', 'mg', ',', 'acondicionado', 'cartela', '10', 'comprimidos', 'Termo', 'referência', '(', '0033773', ')', 'SEI', '03789/2024', '0', 'Termo', 'Referência', '6/2024', 'Modelo', 'TR', 'branco', '—', 'Atualização', ':', '12/2022', '4', '24', '(', 'deverão', 'entregues', '3', 'cartelas', '10', 'comprimidos', 'cadaComprimido', '30', '34Plamet', '10', 'mg', 'comprimidos', '–', 'Bromoprida', '10', 'mg', ',', 'acondicionado', 'caixa', '20', 'comprimidos', '(', 'deverão', 'entregues', '3', 'caixas', '20', 'comprimidos', 'cada', ')', '.Comprimido', '60', '35Predsim', '20', 'mg', 'cx', 'c/', '10', 'cp', '–', 'Prednisolona', '20', 'mg', ',', 'acondicionado', 'caixa', '10', 'comprimidos', '(', 'deverão', 'entregues', '5', 'caixas', '10', 'comprimidos', 'cada', ')', '.Comprimido', '50', '36', 'Predsim', '40', 'mg', 'acondicionados', 'caixa', '07', 'comprimidos', '(', 'deverão', 'entregues', '5', 'caixas', '7', 'comprimidos', 'cada', ')', '.Comprimido', '35', '37Reparil', 'gel-escina', '10', 'mg/g', '+', 'salicilato', 'dietilamina', '50', 'mg/gBisnaga', '30', 'gr', '01', '38Soro', 'Fisiológico', '0,9', '%', '10', 'ml', '(', 'Solução', 'cloreto', 'sódio', '0,9', '%', '-', 'solução', 'injetável', ')', 'Ampola', 'c/', '10', 'ml', '50', '39Soro', 'Fisiológico', '0,9', '%', '100', 'ml', '(', 'Solução', 'cloreto', 'sódio', '0,9', '%', '-', 'solução', 'curativo', ')', 'Frasco', '100', 'ml', '50', '40Tiorfam', '100', 'mg', '–', 'racecadotrila', '100', 'mg', '(', 'deverão', 'entregues', '4', 'caixas', '9', 'cápsulas', ')', 'cápsulas', '36', '41Tylenol', 'sinus', '(', '500', 'mg', 'paracetamol', '+', '30', 'mg', 'cloridrato', 'pseudoefedrina', ')', ',', 'acondicionado', 'caixa', '24', 'comprimidos', '(', 'deverão', 'entregues', '2', 'caixas', '24', 'comprimidos', 'cada', ')', 'cápsulas', '48', '42Vonau', 'flash', '8', 'mg', '–', 'Cloridrato', 'Ondansetrona', '8', 'mg', ',', 'acondicionado', 'caixa', '10', 'comprimidos', '(', 'deverão', 'entregues', '4', 'caixas', '10', 'comprimidos', 'cada', ')', 'Comprimido', '40', '1.2', 'objeto', 'desta', 'contratação', 'enquadra', 'sendo', 'bem', 'luxo']\n"
          ]
        },
        {
          "output_type": "stream",
          "name": "stderr",
          "text": [
            "[nltk_data] Downloading package punkt to /root/nltk_data...\n",
            "[nltk_data]   Package punkt is already up-to-date!\n",
            "[nltk_data] Downloading package stopwords to /root/nltk_data...\n",
            "[nltk_data]   Package stopwords is already up-to-date!\n"
          ]
        }
      ],
      "source": [
        "import nltk\n",
        "\n",
        "from nltk.tokenize import word_tokenize\n",
        "from nltk.corpus import stopwords\n",
        "\n",
        "nltk.download('punkt')\n",
        "nltk.download('stopwords')\n",
        "\n",
        "tokens = word_tokenize(tabela_produtos)\n",
        "\n",
        "# Remover stopwords (palavras comuns que não têm significado relevante)\n",
        "stop_words = set(stopwords.words('portuguese'))\n",
        "tabela_produtos_tokenizada = [word for word in tokens if word.lower() not in stop_words]\n",
        "tabela_produtos_tokenizada = [item for item in tabela_produtos_tokenizada if 'UASG' not in item]\n",
        "\n",
        "print(tabela_produtos_tokenizada)"
      ]
    },
    {
      "cell_type": "code",
      "execution_count": null,
      "metadata": {
        "id": "0btvjgDgByhi",
        "colab": {
          "base_uri": "https://localhost:8080/"
        },
        "outputId": "9fe1b6ff-5669-40ea-a165-9a4861af680c"
      },
      "outputs": [
        {
          "output_type": "stream",
          "name": "stdout",
          "text": [
            "['2Adrenalina', '3Allegra', '4Allegra', '5Andantol', '6Bi-profenid', '7Buscopan', '9Buscoduo', '10Buscopan', '11Captopril', '12Cefaliv', '14Dersani', '15Dersani', '16Dipirona', '17Dipirona', '18Domperidona', '19Dorflex', '20Dramin', '23Hixizine', '24Isordil', '25Luftal', '26Mirtax', '27Mylanta', '28Naramig', '29Nimesulida', '31Pantoprazol', '32Paracetamol', '33Pepsamar-', '34Plamet', '35Predsim', '37Reparil', '38Soro', '39Soro', '40Tiorfam', '41Tylenol', '42Vonau']\n",
            "42Vonau\n",
            "42\n"
          ]
        }
      ],
      "source": [
        "#Obter o número do último produto da lista\n",
        "\n",
        "filtered_list = [s for s in tabela_produtos_tokenizada if re.match(r'^[1-9][0-9A-Z.][a-zA-Z]', s)]\n",
        "filtered_list = [s for s in filtered_list if not (len(s) <= 5 or 'UASG' in s)]\n",
        "print(filtered_list)\n",
        "ultimo = filtered_list[-1]\n",
        "print(ultimo)\n",
        "ultimo_produto = ''.join(filter(str.isdigit, ultimo))\n",
        "ultimo_produto = int(ultimo_produto)\n",
        "print(ultimo_produto)\n"
      ]
    },
    {
      "cell_type": "markdown",
      "source": [
        "Criar lista com os números dos produtos homologados no processo licitatório\n",
        "\n",
        "lista: **produtos_homologados**"
      ],
      "metadata": {
        "id": "J2olelK1WbP_"
      }
    },
    {
      "cell_type": "code",
      "execution_count": null,
      "metadata": {
        "id": "YwNH6ahaq3Nk",
        "colab": {
          "base_uri": "https://localhost:8080/"
        },
        "outputId": "8fdd8280-6434-4874-9d5e-48c5b8520751"
      },
      "outputs": [
        {
          "output_type": "stream",
          "name": "stdout",
          "text": [
            "[1, 3, 4, 6, 7, 8, 9, 10, 11, 13, 14, 16, 17, 18, 19, 20, 21, 23, 24, 25, 26, 27, 28, 29, 30, 31, 32, 33, 34, 35, 36, 37, 38, 39, 40, 41, 42]\n"
          ]
        }
      ],
      "source": [
        "# Criar a nova lista com valores de 1 a ultimo_produto, excluindo os números da lista de exclusão\n",
        "lista_desertos = [int(s) for s in lista_desertos]\n",
        "lista_fracassados = [int(s) for s in lista_fracassados]\n",
        "\n",
        "# Criar lista com os produtos que não foram homologados\n",
        "lista_remover = lista_desertos + lista_fracassados\n",
        "\n",
        "# Clista com os números dos produtos homologados\n",
        "produtos_homologados = [i for i in range(1, int(ultimo_produto) + 1) if i not in lista_remover] # Changed ultimo_produto to int(ultimo_produto)\n",
        "print(produtos_homologados)"
      ]
    },
    {
      "cell_type": "markdown",
      "metadata": {
        "id": "Y7M9wj4WG7aR"
      },
      "source": [
        "Obtida a lista de produtos homologados: **produtos_homologados**"
      ]
    },
    {
      "cell_type": "markdown",
      "metadata": {
        "id": "VACxmIJ5HMbs"
      },
      "source": [
        "Iniciar a checagem se os produtos homologados estão em todas as notas de empenho"
      ]
    },
    {
      "cell_type": "code",
      "execution_count": null,
      "metadata": {
        "id": "fje8HPKrAgA6",
        "colab": {
          "base_uri": "https://localhost:8080/"
        },
        "outputId": "430ce9c0-ced9-4b10-ba96-3d5fb8c64cdd"
      },
      "outputs": [
        {
          "output_type": "stream",
          "name": "stdout",
          "text": [
            "[322]\n"
          ]
        }
      ],
      "source": [
        "#pegar números das notas de empenho\n",
        "numeros_NE = []\n",
        "for i in range (df_Notas_de_empenho.shape[0]):\n",
        "  num_nota_de_empenho = df_Notas_de_empenho['NE'][i]\n",
        "  integer_value = int(num_nota_de_empenho)\n",
        "  numeros_NE.append(integer_value)\n",
        "  numeros_NE = sorted(numeros_NE)\n",
        "\n",
        "print(numeros_NE)"
      ]
    },
    {
      "cell_type": "code",
      "execution_count": null,
      "metadata": {
        "collapsed": true,
        "id": "iZXBMqcEHIh2"
      },
      "outputs": [],
      "source": [
        "#capturar as notas de empenho para a lista notas_de_empenho_completas\n",
        "\n",
        "import re\n",
        "\n",
        "notas_de_empenho_completas = []\n",
        "\n",
        "for i in range (df_Notas_de_empenho.shape[0]):\n",
        "  num_nota_de_empenho = numeros_NE[i]\n",
        "  # Definindo o padrão para capturar o trecho desejado\n",
        "  pattern = rf'(2024 NE {num_nota_de_empenho}.*?SIMONE MARIA DE OLIVEIRA SOARES MELLO|2024 NE {num_nota_de_empenho}.*?ANA ESMERA PIMENTEL DA FONSECA)'\n",
        "  #pattern = rf'(2024 NE.*?SIMONE MARIA DE OLIVEIRA SOARES MELLO)'\n",
        "  # pattern = rf'({num_nota_de_empenho}.*?SIMONE MARIA DE OLIVEIRA SOARES MELLO)'\n",
        "\n",
        "  # Encontrar o trecho entre os padrões\n",
        "  match = re.search(pattern, textPDF, re.DOTALL)\n",
        "\n",
        "  if match:\n",
        "      # Obter o texto completo entre os padrões\n",
        "      nota_empenho = match.group(1).strip()  # O texto entre os dois padrões\n",
        "      notas_de_empenho_completas.append(nota_empenho)\n",
        "  else:\n",
        "      print(f\"Trecho não encontrado para a NE {num_nota_de_empenho}\")\n",
        "\n"
      ]
    },
    {
      "cell_type": "code",
      "execution_count": null,
      "metadata": {
        "collapsed": true,
        "id": "HQAETQoFHISH",
        "colab": {
          "base_uri": "https://localhost:8080/",
          "height": 409
        },
        "outputId": "7bf43863-c85d-4004-9876-3f133703723e"
      },
      "outputs": [
        {
          "output_type": "stream",
          "name": "stderr",
          "text": [
            "[nltk_data] Downloading package punkt to /root/nltk_data...\n",
            "[nltk_data]   Package punkt is already up-to-date!\n",
            "[nltk_data] Downloading package stopwords to /root/nltk_data...\n",
            "[nltk_data]   Package stopwords is already up-to-date!\n",
            "<ipython-input-147-104fe0917522>:19: FutureWarning: ChainedAssignmentError: behaviour will change in pandas 3.0!\n",
            "You are setting values through chained assignment. Currently this works in certain cases, but when using Copy-on-Write (which will become the default behaviour in pandas 3.0) this will never work to update the original DataFrame or Series, because the intermediate object on which we are setting values will behave as a copy.\n",
            "A typical example is when you are setting values in a column of a DataFrame, like:\n",
            "\n",
            "df[\"col\"][row_indexer] = value\n",
            "\n",
            "Use `df.loc[row_indexer, \"col\"] = values` instead, to perform the assignment in a single step and ensure this keeps updating the original `df`.\n",
            "\n",
            "See the caveats in the documentation: https://pandas.pydata.org/pandas-docs/stable/user_guide/indexing.html#returning-a-view-versus-a-copy\n",
            "\n",
            "  df_Notas_de_empenho['NE_Completa'][i] = [word for word in tokens if word.lower() not in stop_words]\n"
          ]
        },
        {
          "output_type": "execute_result",
          "data": {
            "text/plain": [
              "    NE                CNPJ                                   Empresa  \\\n",
              "0  322  13.537.459/0001-70  2D XAVIER MEDICAMENTOS E PERFUMARIA LTDA   \n",
              "\n",
              "      Valor                       Email  \\\n",
              "0  4.569,02  comercial@bigmedica.com.br   \n",
              "\n",
              "                                         NE_Completa  \n",
              "0  [2024, NE, 322, Natureza, Despesa, Esfera, UGR...  "
            ],
            "text/html": [
              "\n",
              "  <div id=\"df-72d3ccf0-3603-48af-a078-6af07b7a82e6\" class=\"colab-df-container\">\n",
              "    <div>\n",
              "<style scoped>\n",
              "    .dataframe tbody tr th:only-of-type {\n",
              "        vertical-align: middle;\n",
              "    }\n",
              "\n",
              "    .dataframe tbody tr th {\n",
              "        vertical-align: top;\n",
              "    }\n",
              "\n",
              "    .dataframe thead th {\n",
              "        text-align: right;\n",
              "    }\n",
              "</style>\n",
              "<table border=\"1\" class=\"dataframe\">\n",
              "  <thead>\n",
              "    <tr style=\"text-align: right;\">\n",
              "      <th></th>\n",
              "      <th>NE</th>\n",
              "      <th>CNPJ</th>\n",
              "      <th>Empresa</th>\n",
              "      <th>Valor</th>\n",
              "      <th>Email</th>\n",
              "      <th>NE_Completa</th>\n",
              "    </tr>\n",
              "  </thead>\n",
              "  <tbody>\n",
              "    <tr>\n",
              "      <th>0</th>\n",
              "      <td>322</td>\n",
              "      <td>13.537.459/0001-70</td>\n",
              "      <td>2D XAVIER MEDICAMENTOS E PERFUMARIA LTDA</td>\n",
              "      <td>4.569,02</td>\n",
              "      <td>comercial@bigmedica.com.br</td>\n",
              "      <td>[2024, NE, 322, Natureza, Despesa, Esfera, UGR...</td>\n",
              "    </tr>\n",
              "  </tbody>\n",
              "</table>\n",
              "</div>\n",
              "    <div class=\"colab-df-buttons\">\n",
              "\n",
              "  <div class=\"colab-df-container\">\n",
              "    <button class=\"colab-df-convert\" onclick=\"convertToInteractive('df-72d3ccf0-3603-48af-a078-6af07b7a82e6')\"\n",
              "            title=\"Convert this dataframe to an interactive table.\"\n",
              "            style=\"display:none;\">\n",
              "\n",
              "  <svg xmlns=\"http://www.w3.org/2000/svg\" height=\"24px\" viewBox=\"0 -960 960 960\">\n",
              "    <path d=\"M120-120v-720h720v720H120Zm60-500h600v-160H180v160Zm220 220h160v-160H400v160Zm0 220h160v-160H400v160ZM180-400h160v-160H180v160Zm440 0h160v-160H620v160ZM180-180h160v-160H180v160Zm440 0h160v-160H620v160Z\"/>\n",
              "  </svg>\n",
              "    </button>\n",
              "\n",
              "  <style>\n",
              "    .colab-df-container {\n",
              "      display:flex;\n",
              "      gap: 12px;\n",
              "    }\n",
              "\n",
              "    .colab-df-convert {\n",
              "      background-color: #E8F0FE;\n",
              "      border: none;\n",
              "      border-radius: 50%;\n",
              "      cursor: pointer;\n",
              "      display: none;\n",
              "      fill: #1967D2;\n",
              "      height: 32px;\n",
              "      padding: 0 0 0 0;\n",
              "      width: 32px;\n",
              "    }\n",
              "\n",
              "    .colab-df-convert:hover {\n",
              "      background-color: #E2EBFA;\n",
              "      box-shadow: 0px 1px 2px rgba(60, 64, 67, 0.3), 0px 1px 3px 1px rgba(60, 64, 67, 0.15);\n",
              "      fill: #174EA6;\n",
              "    }\n",
              "\n",
              "    .colab-df-buttons div {\n",
              "      margin-bottom: 4px;\n",
              "    }\n",
              "\n",
              "    [theme=dark] .colab-df-convert {\n",
              "      background-color: #3B4455;\n",
              "      fill: #D2E3FC;\n",
              "    }\n",
              "\n",
              "    [theme=dark] .colab-df-convert:hover {\n",
              "      background-color: #434B5C;\n",
              "      box-shadow: 0px 1px 3px 1px rgba(0, 0, 0, 0.15);\n",
              "      filter: drop-shadow(0px 1px 2px rgba(0, 0, 0, 0.3));\n",
              "      fill: #FFFFFF;\n",
              "    }\n",
              "  </style>\n",
              "\n",
              "    <script>\n",
              "      const buttonEl =\n",
              "        document.querySelector('#df-72d3ccf0-3603-48af-a078-6af07b7a82e6 button.colab-df-convert');\n",
              "      buttonEl.style.display =\n",
              "        google.colab.kernel.accessAllowed ? 'block' : 'none';\n",
              "\n",
              "      async function convertToInteractive(key) {\n",
              "        const element = document.querySelector('#df-72d3ccf0-3603-48af-a078-6af07b7a82e6');\n",
              "        const dataTable =\n",
              "          await google.colab.kernel.invokeFunction('convertToInteractive',\n",
              "                                                    [key], {});\n",
              "        if (!dataTable) return;\n",
              "\n",
              "        const docLinkHtml = 'Like what you see? Visit the ' +\n",
              "          '<a target=\"_blank\" href=https://colab.research.google.com/notebooks/data_table.ipynb>data table notebook</a>'\n",
              "          + ' to learn more about interactive tables.';\n",
              "        element.innerHTML = '';\n",
              "        dataTable['output_type'] = 'display_data';\n",
              "        await google.colab.output.renderOutput(dataTable, element);\n",
              "        const docLink = document.createElement('div');\n",
              "        docLink.innerHTML = docLinkHtml;\n",
              "        element.appendChild(docLink);\n",
              "      }\n",
              "    </script>\n",
              "  </div>\n",
              "\n",
              "\n",
              "  <div id=\"id_5664da81-6cc2-46c6-8d19-36347a341c32\">\n",
              "    <style>\n",
              "      .colab-df-generate {\n",
              "        background-color: #E8F0FE;\n",
              "        border: none;\n",
              "        border-radius: 50%;\n",
              "        cursor: pointer;\n",
              "        display: none;\n",
              "        fill: #1967D2;\n",
              "        height: 32px;\n",
              "        padding: 0 0 0 0;\n",
              "        width: 32px;\n",
              "      }\n",
              "\n",
              "      .colab-df-generate:hover {\n",
              "        background-color: #E2EBFA;\n",
              "        box-shadow: 0px 1px 2px rgba(60, 64, 67, 0.3), 0px 1px 3px 1px rgba(60, 64, 67, 0.15);\n",
              "        fill: #174EA6;\n",
              "      }\n",
              "\n",
              "      [theme=dark] .colab-df-generate {\n",
              "        background-color: #3B4455;\n",
              "        fill: #D2E3FC;\n",
              "      }\n",
              "\n",
              "      [theme=dark] .colab-df-generate:hover {\n",
              "        background-color: #434B5C;\n",
              "        box-shadow: 0px 1px 3px 1px rgba(0, 0, 0, 0.15);\n",
              "        filter: drop-shadow(0px 1px 2px rgba(0, 0, 0, 0.3));\n",
              "        fill: #FFFFFF;\n",
              "      }\n",
              "    </style>\n",
              "    <button class=\"colab-df-generate\" onclick=\"generateWithVariable('df_Notas_de_empenho')\"\n",
              "            title=\"Generate code using this dataframe.\"\n",
              "            style=\"display:none;\">\n",
              "\n",
              "  <svg xmlns=\"http://www.w3.org/2000/svg\" height=\"24px\"viewBox=\"0 0 24 24\"\n",
              "       width=\"24px\">\n",
              "    <path d=\"M7,19H8.4L18.45,9,17,7.55,7,17.6ZM5,21V16.75L18.45,3.32a2,2,0,0,1,2.83,0l1.4,1.43a1.91,1.91,0,0,1,.58,1.4,1.91,1.91,0,0,1-.58,1.4L9.25,21ZM18.45,9,17,7.55Zm-12,3A5.31,5.31,0,0,0,4.9,8.1,5.31,5.31,0,0,0,1,6.5,5.31,5.31,0,0,0,4.9,4.9,5.31,5.31,0,0,0,6.5,1,5.31,5.31,0,0,0,8.1,4.9,5.31,5.31,0,0,0,12,6.5,5.46,5.46,0,0,0,6.5,12Z\"/>\n",
              "  </svg>\n",
              "    </button>\n",
              "    <script>\n",
              "      (() => {\n",
              "      const buttonEl =\n",
              "        document.querySelector('#id_5664da81-6cc2-46c6-8d19-36347a341c32 button.colab-df-generate');\n",
              "      buttonEl.style.display =\n",
              "        google.colab.kernel.accessAllowed ? 'block' : 'none';\n",
              "\n",
              "      buttonEl.onclick = () => {\n",
              "        google.colab.notebook.generateWithVariable('df_Notas_de_empenho');\n",
              "      }\n",
              "      })();\n",
              "    </script>\n",
              "  </div>\n",
              "\n",
              "    </div>\n",
              "  </div>\n"
            ],
            "application/vnd.google.colaboratory.intrinsic+json": {
              "type": "dataframe",
              "variable_name": "df_Notas_de_empenho",
              "summary": "{\n  \"name\": \"df_Notas_de_empenho\",\n  \"rows\": 1,\n  \"fields\": [\n    {\n      \"column\": \"NE\",\n      \"properties\": {\n        \"dtype\": \"string\",\n        \"num_unique_values\": 1,\n        \"samples\": [\n          \"322\"\n        ],\n        \"semantic_type\": \"\",\n        \"description\": \"\"\n      }\n    },\n    {\n      \"column\": \"CNPJ\",\n      \"properties\": {\n        \"dtype\": \"string\",\n        \"num_unique_values\": 1,\n        \"samples\": [\n          \"13.537.459/0001-70\"\n        ],\n        \"semantic_type\": \"\",\n        \"description\": \"\"\n      }\n    },\n    {\n      \"column\": \"Empresa\",\n      \"properties\": {\n        \"dtype\": \"string\",\n        \"num_unique_values\": 1,\n        \"samples\": [\n          \"2D XAVIER MEDICAMENTOS E PERFUMARIA LTDA\"\n        ],\n        \"semantic_type\": \"\",\n        \"description\": \"\"\n      }\n    },\n    {\n      \"column\": \"Valor\",\n      \"properties\": {\n        \"dtype\": \"string\",\n        \"num_unique_values\": 1,\n        \"samples\": [\n          \"4.569,02\"\n        ],\n        \"semantic_type\": \"\",\n        \"description\": \"\"\n      }\n    },\n    {\n      \"column\": \"Email\",\n      \"properties\": {\n        \"dtype\": \"string\",\n        \"num_unique_values\": 1,\n        \"samples\": [\n          \"comercial@bigmedica.com.br\"\n        ],\n        \"semantic_type\": \"\",\n        \"description\": \"\"\n      }\n    },\n    {\n      \"column\": \"NE_Completa\",\n      \"properties\": {\n        \"dtype\": \"object\",\n        \"semantic_type\": \"\",\n        \"description\": \"\"\n      }\n    }\n  ]\n}"
            }
          },
          "metadata": {},
          "execution_count": 147
        }
      ],
      "source": [
        "#inserir as notas de empenho tokenizadas e sem stopwords no DataFrame\n",
        "\n",
        "import nltk\n",
        "\n",
        "from nltk.tokenize import word_tokenize\n",
        "from nltk.corpus import stopwords\n",
        "\n",
        "df_Notas_de_empenho['NE_Completa'] = \"\"\n",
        "\n",
        "for i in range(len(notas_de_empenho_completas)):\n",
        "  nltk.download('punkt')\n",
        "  nltk.download('stopwords')\n",
        "\n",
        "  # Supondo que 'text' é o conteúdo extraído do PDF\n",
        "  tokens = word_tokenize(notas_de_empenho_completas[i])\n",
        "\n",
        "  # Remover stopwords (palavras comuns que não têm significado relevante)\n",
        "  stop_words = set(stopwords.words('portuguese'))\n",
        "  df_Notas_de_empenho['NE_Completa'][i] = [word for word in tokens if word.lower() not in stop_words]\n",
        "\n",
        "df_Notas_de_empenho"
      ]
    },
    {
      "cell_type": "code",
      "execution_count": null,
      "metadata": {
        "collapsed": true,
        "id": "8Lyew5SEHIO-",
        "colab": {
          "base_uri": "https://localhost:8080/",
          "height": 187
        },
        "outputId": "0dc3218d-0c6d-4c52-e320-4e62ebd4d06a"
      },
      "outputs": [
        {
          "output_type": "execute_result",
          "data": {
            "text/plain": [
              "    NE                CNPJ                                   Empresa  \\\n",
              "0  322  13.537.459/0001-70  2D XAVIER MEDICAMENTOS E PERFUMARIA LTDA   \n",
              "\n",
              "      Valor                       Email  \\\n",
              "0  4.569,02  comercial@bigmedica.com.br   \n",
              "\n",
              "                                         NE_Completa  \\\n",
              "0  [2024, NE, 322, Natureza, Despesa, Esfera, UGR...   \n",
              "\n",
              "                                         itens_da_NE  \n",
              "0  [1, 3, 4, 6, 7, 8, 9, 9, 10, 11, 13, 14, 16, 1...  "
            ],
            "text/html": [
              "\n",
              "  <div id=\"df-91e33cfd-57da-4700-9c91-eb02e10a9eae\" class=\"colab-df-container\">\n",
              "    <div>\n",
              "<style scoped>\n",
              "    .dataframe tbody tr th:only-of-type {\n",
              "        vertical-align: middle;\n",
              "    }\n",
              "\n",
              "    .dataframe tbody tr th {\n",
              "        vertical-align: top;\n",
              "    }\n",
              "\n",
              "    .dataframe thead th {\n",
              "        text-align: right;\n",
              "    }\n",
              "</style>\n",
              "<table border=\"1\" class=\"dataframe\">\n",
              "  <thead>\n",
              "    <tr style=\"text-align: right;\">\n",
              "      <th></th>\n",
              "      <th>NE</th>\n",
              "      <th>CNPJ</th>\n",
              "      <th>Empresa</th>\n",
              "      <th>Valor</th>\n",
              "      <th>Email</th>\n",
              "      <th>NE_Completa</th>\n",
              "      <th>itens_da_NE</th>\n",
              "    </tr>\n",
              "  </thead>\n",
              "  <tbody>\n",
              "    <tr>\n",
              "      <th>0</th>\n",
              "      <td>322</td>\n",
              "      <td>13.537.459/0001-70</td>\n",
              "      <td>2D XAVIER MEDICAMENTOS E PERFUMARIA LTDA</td>\n",
              "      <td>4.569,02</td>\n",
              "      <td>comercial@bigmedica.com.br</td>\n",
              "      <td>[2024, NE, 322, Natureza, Despesa, Esfera, UGR...</td>\n",
              "      <td>[1, 3, 4, 6, 7, 8, 9, 9, 10, 11, 13, 14, 16, 1...</td>\n",
              "    </tr>\n",
              "  </tbody>\n",
              "</table>\n",
              "</div>\n",
              "    <div class=\"colab-df-buttons\">\n",
              "\n",
              "  <div class=\"colab-df-container\">\n",
              "    <button class=\"colab-df-convert\" onclick=\"convertToInteractive('df-91e33cfd-57da-4700-9c91-eb02e10a9eae')\"\n",
              "            title=\"Convert this dataframe to an interactive table.\"\n",
              "            style=\"display:none;\">\n",
              "\n",
              "  <svg xmlns=\"http://www.w3.org/2000/svg\" height=\"24px\" viewBox=\"0 -960 960 960\">\n",
              "    <path d=\"M120-120v-720h720v720H120Zm60-500h600v-160H180v160Zm220 220h160v-160H400v160Zm0 220h160v-160H400v160ZM180-400h160v-160H180v160Zm440 0h160v-160H620v160ZM180-180h160v-160H180v160Zm440 0h160v-160H620v160Z\"/>\n",
              "  </svg>\n",
              "    </button>\n",
              "\n",
              "  <style>\n",
              "    .colab-df-container {\n",
              "      display:flex;\n",
              "      gap: 12px;\n",
              "    }\n",
              "\n",
              "    .colab-df-convert {\n",
              "      background-color: #E8F0FE;\n",
              "      border: none;\n",
              "      border-radius: 50%;\n",
              "      cursor: pointer;\n",
              "      display: none;\n",
              "      fill: #1967D2;\n",
              "      height: 32px;\n",
              "      padding: 0 0 0 0;\n",
              "      width: 32px;\n",
              "    }\n",
              "\n",
              "    .colab-df-convert:hover {\n",
              "      background-color: #E2EBFA;\n",
              "      box-shadow: 0px 1px 2px rgba(60, 64, 67, 0.3), 0px 1px 3px 1px rgba(60, 64, 67, 0.15);\n",
              "      fill: #174EA6;\n",
              "    }\n",
              "\n",
              "    .colab-df-buttons div {\n",
              "      margin-bottom: 4px;\n",
              "    }\n",
              "\n",
              "    [theme=dark] .colab-df-convert {\n",
              "      background-color: #3B4455;\n",
              "      fill: #D2E3FC;\n",
              "    }\n",
              "\n",
              "    [theme=dark] .colab-df-convert:hover {\n",
              "      background-color: #434B5C;\n",
              "      box-shadow: 0px 1px 3px 1px rgba(0, 0, 0, 0.15);\n",
              "      filter: drop-shadow(0px 1px 2px rgba(0, 0, 0, 0.3));\n",
              "      fill: #FFFFFF;\n",
              "    }\n",
              "  </style>\n",
              "\n",
              "    <script>\n",
              "      const buttonEl =\n",
              "        document.querySelector('#df-91e33cfd-57da-4700-9c91-eb02e10a9eae button.colab-df-convert');\n",
              "      buttonEl.style.display =\n",
              "        google.colab.kernel.accessAllowed ? 'block' : 'none';\n",
              "\n",
              "      async function convertToInteractive(key) {\n",
              "        const element = document.querySelector('#df-91e33cfd-57da-4700-9c91-eb02e10a9eae');\n",
              "        const dataTable =\n",
              "          await google.colab.kernel.invokeFunction('convertToInteractive',\n",
              "                                                    [key], {});\n",
              "        if (!dataTable) return;\n",
              "\n",
              "        const docLinkHtml = 'Like what you see? Visit the ' +\n",
              "          '<a target=\"_blank\" href=https://colab.research.google.com/notebooks/data_table.ipynb>data table notebook</a>'\n",
              "          + ' to learn more about interactive tables.';\n",
              "        element.innerHTML = '';\n",
              "        dataTable['output_type'] = 'display_data';\n",
              "        await google.colab.output.renderOutput(dataTable, element);\n",
              "        const docLink = document.createElement('div');\n",
              "        docLink.innerHTML = docLinkHtml;\n",
              "        element.appendChild(docLink);\n",
              "      }\n",
              "    </script>\n",
              "  </div>\n",
              "\n",
              "\n",
              "  <div id=\"id_96d3f018-ffe3-4465-8da4-5820c191a4f0\">\n",
              "    <style>\n",
              "      .colab-df-generate {\n",
              "        background-color: #E8F0FE;\n",
              "        border: none;\n",
              "        border-radius: 50%;\n",
              "        cursor: pointer;\n",
              "        display: none;\n",
              "        fill: #1967D2;\n",
              "        height: 32px;\n",
              "        padding: 0 0 0 0;\n",
              "        width: 32px;\n",
              "      }\n",
              "\n",
              "      .colab-df-generate:hover {\n",
              "        background-color: #E2EBFA;\n",
              "        box-shadow: 0px 1px 2px rgba(60, 64, 67, 0.3), 0px 1px 3px 1px rgba(60, 64, 67, 0.15);\n",
              "        fill: #174EA6;\n",
              "      }\n",
              "\n",
              "      [theme=dark] .colab-df-generate {\n",
              "        background-color: #3B4455;\n",
              "        fill: #D2E3FC;\n",
              "      }\n",
              "\n",
              "      [theme=dark] .colab-df-generate:hover {\n",
              "        background-color: #434B5C;\n",
              "        box-shadow: 0px 1px 3px 1px rgba(0, 0, 0, 0.15);\n",
              "        filter: drop-shadow(0px 1px 2px rgba(0, 0, 0, 0.3));\n",
              "        fill: #FFFFFF;\n",
              "      }\n",
              "    </style>\n",
              "    <button class=\"colab-df-generate\" onclick=\"generateWithVariable('df_Notas_de_empenho')\"\n",
              "            title=\"Generate code using this dataframe.\"\n",
              "            style=\"display:none;\">\n",
              "\n",
              "  <svg xmlns=\"http://www.w3.org/2000/svg\" height=\"24px\"viewBox=\"0 0 24 24\"\n",
              "       width=\"24px\">\n",
              "    <path d=\"M7,19H8.4L18.45,9,17,7.55,7,17.6ZM5,21V16.75L18.45,3.32a2,2,0,0,1,2.83,0l1.4,1.43a1.91,1.91,0,0,1,.58,1.4,1.91,1.91,0,0,1-.58,1.4L9.25,21ZM18.45,9,17,7.55Zm-12,3A5.31,5.31,0,0,0,4.9,8.1,5.31,5.31,0,0,0,1,6.5,5.31,5.31,0,0,0,4.9,4.9,5.31,5.31,0,0,0,6.5,1,5.31,5.31,0,0,0,8.1,4.9,5.31,5.31,0,0,0,12,6.5,5.46,5.46,0,0,0,6.5,12Z\"/>\n",
              "  </svg>\n",
              "    </button>\n",
              "    <script>\n",
              "      (() => {\n",
              "      const buttonEl =\n",
              "        document.querySelector('#id_96d3f018-ffe3-4465-8da4-5820c191a4f0 button.colab-df-generate');\n",
              "      buttonEl.style.display =\n",
              "        google.colab.kernel.accessAllowed ? 'block' : 'none';\n",
              "\n",
              "      buttonEl.onclick = () => {\n",
              "        google.colab.notebook.generateWithVariable('df_Notas_de_empenho');\n",
              "      }\n",
              "      })();\n",
              "    </script>\n",
              "  </div>\n",
              "\n",
              "    </div>\n",
              "  </div>\n"
            ],
            "application/vnd.google.colaboratory.intrinsic+json": {
              "type": "dataframe",
              "variable_name": "df_Notas_de_empenho",
              "summary": "{\n  \"name\": \"df_Notas_de_empenho\",\n  \"rows\": 1,\n  \"fields\": [\n    {\n      \"column\": \"NE\",\n      \"properties\": {\n        \"dtype\": \"string\",\n        \"num_unique_values\": 1,\n        \"samples\": [\n          \"322\"\n        ],\n        \"semantic_type\": \"\",\n        \"description\": \"\"\n      }\n    },\n    {\n      \"column\": \"CNPJ\",\n      \"properties\": {\n        \"dtype\": \"string\",\n        \"num_unique_values\": 1,\n        \"samples\": [\n          \"13.537.459/0001-70\"\n        ],\n        \"semantic_type\": \"\",\n        \"description\": \"\"\n      }\n    },\n    {\n      \"column\": \"Empresa\",\n      \"properties\": {\n        \"dtype\": \"string\",\n        \"num_unique_values\": 1,\n        \"samples\": [\n          \"2D XAVIER MEDICAMENTOS E PERFUMARIA LTDA\"\n        ],\n        \"semantic_type\": \"\",\n        \"description\": \"\"\n      }\n    },\n    {\n      \"column\": \"Valor\",\n      \"properties\": {\n        \"dtype\": \"string\",\n        \"num_unique_values\": 1,\n        \"samples\": [\n          \"4.569,02\"\n        ],\n        \"semantic_type\": \"\",\n        \"description\": \"\"\n      }\n    },\n    {\n      \"column\": \"Email\",\n      \"properties\": {\n        \"dtype\": \"string\",\n        \"num_unique_values\": 1,\n        \"samples\": [\n          \"comercial@bigmedica.com.br\"\n        ],\n        \"semantic_type\": \"\",\n        \"description\": \"\"\n      }\n    },\n    {\n      \"column\": \"NE_Completa\",\n      \"properties\": {\n        \"dtype\": \"object\",\n        \"semantic_type\": \"\",\n        \"description\": \"\"\n      }\n    },\n    {\n      \"column\": \"itens_da_NE\",\n      \"properties\": {\n        \"dtype\": \"object\",\n        \"semantic_type\": \"\",\n        \"description\": \"\"\n      }\n    }\n  ]\n}"
            }
          },
          "metadata": {},
          "execution_count": 148
        }
      ],
      "source": [
        "#Capturar os números dos itens de cada nota de empenho e inserir no DataFrame\n",
        "\n",
        "import numpy as np\n",
        "\n",
        "df_Notas_de_empenho['itens_da_NE'] = ''\n",
        "\n",
        "for i in range(df_Notas_de_empenho.shape[0]):\n",
        "  num_NE = df_Notas_de_empenho['NE_Completa'][i][2]\n",
        "  produtos = []\n",
        "  for j in range(len(df_Notas_de_empenho['NE_Completa'][i])):\n",
        "    if (df_Notas_de_empenho['NE_Completa'][i][j] == 'Item') and (df_Notas_de_empenho['NE_Completa'][i][j+1] == 'compra'):\n",
        "      df_Notas_de_empenho.loc[df_Notas_de_empenho['NE'] == num_NE, 'itens_da_NE'] += df_Notas_de_empenho['NE_Completa'][i][j+3]\n",
        "      df_Notas_de_empenho.loc[df_Notas_de_empenho['NE'] == num_NE, 'itens_da_NE'] += ', '\n",
        "      # df_Notas_de_empenho['itens_da_NE'][i] += df_Notas_de_empenho['NE_Completa'][i][j+3]\n",
        "      # df_Notas_de_empenho['itens_da_NE'][i] += ', '\n",
        "\n",
        "# # Remove the last comma and space\n",
        "df_Notas_de_empenho['itens_da_NE'] = df_Notas_de_empenho['itens_da_NE'].str.rstrip(', ')\n",
        "\n",
        "# # Split the string into a list of strings\n",
        "df_Notas_de_empenho['itens_da_NE'] = df_Notas_de_empenho['itens_da_NE'].str.split(', ')\n",
        "\n",
        "# # Convert the list of strings to a list of integers\n",
        "df_Notas_de_empenho['itens_da_NE'] = df_Notas_de_empenho['itens_da_NE'].apply(lambda x: [int(i) for i in x])\n",
        "\n",
        "df_Notas_de_empenho\n"
      ]
    },
    {
      "cell_type": "code",
      "execution_count": null,
      "metadata": {
        "collapsed": true,
        "id": "Ds-hJeDhvqNG",
        "colab": {
          "base_uri": "https://localhost:8080/"
        },
        "outputId": "cdfb699e-9162-4e6c-e281-6642eecb186d"
      },
      "outputs": [
        {
          "output_type": "stream",
          "name": "stderr",
          "text": [
            "<ipython-input-149-dd9184e373c6>:4: FutureWarning: ChainedAssignmentError: behaviour will change in pandas 3.0!\n",
            "You are setting values through chained assignment. Currently this works in certain cases, but when using Copy-on-Write (which will become the default behaviour in pandas 3.0) this will never work to update the original DataFrame or Series, because the intermediate object on which we are setting values will behave as a copy.\n",
            "A typical example is when you are setting values in a column of a DataFrame, like:\n",
            "\n",
            "df[\"col\"][row_indexer] = value\n",
            "\n",
            "Use `df.loc[row_indexer, \"col\"] = values` instead, to perform the assignment in a single step and ensure this keeps updating the original `df`.\n",
            "\n",
            "See the caveats in the documentation: https://pandas.pydata.org/pandas-docs/stable/user_guide/indexing.html#returning-a-view-versus-a-copy\n",
            "\n",
            "  df_Notas_de_empenho['itens_da_NE'][i] = list(set(df_Notas_de_empenho['itens_da_NE'][i]))\n"
          ]
        }
      ],
      "source": [
        "#remover repetidos\n",
        "\n",
        "for i in range(df_Notas_de_empenho.shape[0]):\n",
        "  df_Notas_de_empenho['itens_da_NE'][i] = list(set(df_Notas_de_empenho['itens_da_NE'][i]))"
      ]
    },
    {
      "cell_type": "code",
      "execution_count": null,
      "metadata": {
        "collapsed": true,
        "id": "8_IfKt9yjhes",
        "colab": {
          "base_uri": "https://localhost:8080/"
        },
        "outputId": "4e7e47aa-8a7a-43f9-d033-8f38db120763"
      },
      "outputs": [
        {
          "output_type": "stream",
          "name": "stdout",
          "text": [
            "----\n",
            "Nota: 322\n",
            "Produtos: [1, 3, 4, 6, 7, 8, 9, 10, 11, 13, 14, 16, 17, 18, 19, 20, 21, 23, 24, 25, 26, 27, 28, 29, 30, 31, 32, 33, 34, 35, 36, 37, 38, 39, 40, 41, 42]\n"
          ]
        }
      ],
      "source": [
        "#imprime a lista de produtos em cada Nota de Empenho\n",
        "\n",
        "for i in range(df_Notas_de_empenho.shape[0]):\n",
        "  print(\"----\")\n",
        "  print(f\"Nota: {df_Notas_de_empenho['NE'][i]}\")\n",
        "  print(f\"Produtos: {df_Notas_de_empenho['itens_da_NE'][i]}\")"
      ]
    },
    {
      "cell_type": "code",
      "execution_count": null,
      "metadata": {
        "id": "LoZmW7K4S2vA"
      },
      "outputs": [],
      "source": [
        "#Criar uma lista com os produtos que foram homologados mas não estão em nenhuma Nota de Empenho\n",
        "\n",
        "produtos_homologados_nao_presentes_nas_NE = produtos_homologados.copy()\n",
        "\n",
        "for lista in df_Notas_de_empenho['itens_da_NE']:\n",
        "  for num in lista:\n",
        "    if num in produtos_homologados_nao_presentes_nas_NE:\n",
        "      produtos_homologados_nao_presentes_nas_NE.remove(num)\n",
        "\n",
        "#print(f'Produtos que foram homologados mas não estão em nenhuma NE: \\n{produtos_homologados_nao_presentes_nas_NE}')"
      ]
    },
    {
      "cell_type": "markdown",
      "source": [
        "Criar o arquivo mensagem_itens_homologados.txt para listar os produtos que tenham sido homologados mas que não estão em nenhuma Nota de Empenho"
      ],
      "metadata": {
        "id": "3KLMXMPWfYjO"
      }
    },
    {
      "cell_type": "code",
      "source": [
        "from datetime import datetime\n",
        "\n",
        "# Obter a data atual\n",
        "current_date = datetime.now()\n",
        "\n",
        "# Formatar o dia, mês e ano como strings\n",
        "formatted_date = f\"SAMS - TRE-RN, {current_date.day}/{current_date.month}/{current_date.year}.\"\n",
        "\n",
        "if len(produtos_homologados_nao_presentes_nas_NE) > 0:\n",
        "  mensagem = f\"Os produtos, {produtos_homologados_nao_presentes_nas_NE}, foram homologados mas não estão em nenhuma Nota de Empenho.\"\n",
        "else:\n",
        "  mensagem = f\"Todos os produtos foram homologados e localizados em alguma Nota de Empenho.\"\n",
        "\n",
        "# Nome do arquivo\n",
        "nome_arquivo = \"mensagem_itens_homologados.txt\"\n",
        "\n",
        "# Abrindo o arquivo em modo de escrita\n",
        "with open(nome_arquivo, 'w') as arquivo:\n",
        "    arquivo.write(mensagem)\n",
        "\n",
        "#print(f\"A mensagem foi escrita em {nome_arquivo}.\")"
      ],
      "metadata": {
        "id": "mu-JySLwH6dv"
      },
      "execution_count": null,
      "outputs": []
    },
    {
      "cell_type": "markdown",
      "metadata": {
        "id": "aH5TVRq72FjW"
      },
      "source": [
        "#Início de criação da planilha de acompanhamento das entregas (Objetivo 3)"
      ]
    },
    {
      "cell_type": "code",
      "execution_count": null,
      "metadata": {
        "id": "AVKslW_02xoI"
      },
      "outputs": [],
      "source": [
        "#Cria df_para_planilha\n",
        "\n",
        "from datetime import datetime, timedelta\n",
        "\n",
        "# Obter a data atual\n",
        "current_date = datetime.now()\n",
        "\n",
        "# Adicionar 30 dias à data atual\n",
        "new_date = current_date + timedelta(days=30)\n",
        "\n",
        "formatted_date = new_date.strftime(\"%d/%m/%Y\")\n",
        "\n",
        "#resposta = input(\"Deseja criar a Planilha de Controle de Entregas? (s/n): \")\n",
        "resposta = 's'\n",
        "\n",
        "if resposta.lower() == 's':\n",
        "  colunas_dropar = ['NE_Completa', 'itens_da_NE']\n",
        "  df_para_planilha = df_Notas_de_empenho.drop(colunas_dropar, axis=1)\n",
        "  df_para_planilha['Fim do prazo para entrega'] = formatted_date\n",
        "  df_para_planilha['Data da Entrega'] = ''\n",
        "  df_para_planilha['No. da Nota Fiscal'] = ''\n",
        "  df_para_planilha['Pendências na Entrega'] = ''\n",
        "  df_para_planilha['Enviado para pagamento em:'] = ''\n",
        "  df_para_planilha['Pago em:'] = ''\n",
        "  df_para_planilha.to_excel('Planilha de Controle de Entregas.xlsx', index=False)"
      ]
    },
    {
      "cell_type": "code",
      "execution_count": null,
      "metadata": {
        "id": "NRaqivP5HCxq",
        "colab": {
          "base_uri": "https://localhost:8080/",
          "height": 205
        },
        "outputId": "f05e1300-c748-4280-deb0-71e8a18e890b"
      },
      "outputs": [
        {
          "output_type": "execute_result",
          "data": {
            "text/plain": [
              "    NE                CNPJ                                   Empresa  \\\n",
              "0  322  13.537.459/0001-70  2D XAVIER MEDICAMENTOS E PERFUMARIA LTDA   \n",
              "\n",
              "      Valor                       Email Fim do prazo para entrega  \\\n",
              "0  4.569,02  comercial@bigmedica.com.br                23/11/2024   \n",
              "\n",
              "  Data da Entrega No. da Nota Fiscal Pendências na Entrega  \\\n",
              "0                                                            \n",
              "\n",
              "  Enviado para pagamento em: Pago em:  \n",
              "0                                      "
            ],
            "text/html": [
              "\n",
              "  <div id=\"df-ee6d1552-ad0b-4ac4-a3c0-ed3b77600c46\" class=\"colab-df-container\">\n",
              "    <div>\n",
              "<style scoped>\n",
              "    .dataframe tbody tr th:only-of-type {\n",
              "        vertical-align: middle;\n",
              "    }\n",
              "\n",
              "    .dataframe tbody tr th {\n",
              "        vertical-align: top;\n",
              "    }\n",
              "\n",
              "    .dataframe thead th {\n",
              "        text-align: right;\n",
              "    }\n",
              "</style>\n",
              "<table border=\"1\" class=\"dataframe\">\n",
              "  <thead>\n",
              "    <tr style=\"text-align: right;\">\n",
              "      <th></th>\n",
              "      <th>NE</th>\n",
              "      <th>CNPJ</th>\n",
              "      <th>Empresa</th>\n",
              "      <th>Valor</th>\n",
              "      <th>Email</th>\n",
              "      <th>Fim do prazo para entrega</th>\n",
              "      <th>Data da Entrega</th>\n",
              "      <th>No. da Nota Fiscal</th>\n",
              "      <th>Pendências na Entrega</th>\n",
              "      <th>Enviado para pagamento em:</th>\n",
              "      <th>Pago em:</th>\n",
              "    </tr>\n",
              "  </thead>\n",
              "  <tbody>\n",
              "    <tr>\n",
              "      <th>0</th>\n",
              "      <td>322</td>\n",
              "      <td>13.537.459/0001-70</td>\n",
              "      <td>2D XAVIER MEDICAMENTOS E PERFUMARIA LTDA</td>\n",
              "      <td>4.569,02</td>\n",
              "      <td>comercial@bigmedica.com.br</td>\n",
              "      <td>23/11/2024</td>\n",
              "      <td></td>\n",
              "      <td></td>\n",
              "      <td></td>\n",
              "      <td></td>\n",
              "      <td></td>\n",
              "    </tr>\n",
              "  </tbody>\n",
              "</table>\n",
              "</div>\n",
              "    <div class=\"colab-df-buttons\">\n",
              "\n",
              "  <div class=\"colab-df-container\">\n",
              "    <button class=\"colab-df-convert\" onclick=\"convertToInteractive('df-ee6d1552-ad0b-4ac4-a3c0-ed3b77600c46')\"\n",
              "            title=\"Convert this dataframe to an interactive table.\"\n",
              "            style=\"display:none;\">\n",
              "\n",
              "  <svg xmlns=\"http://www.w3.org/2000/svg\" height=\"24px\" viewBox=\"0 -960 960 960\">\n",
              "    <path d=\"M120-120v-720h720v720H120Zm60-500h600v-160H180v160Zm220 220h160v-160H400v160Zm0 220h160v-160H400v160ZM180-400h160v-160H180v160Zm440 0h160v-160H620v160ZM180-180h160v-160H180v160Zm440 0h160v-160H620v160Z\"/>\n",
              "  </svg>\n",
              "    </button>\n",
              "\n",
              "  <style>\n",
              "    .colab-df-container {\n",
              "      display:flex;\n",
              "      gap: 12px;\n",
              "    }\n",
              "\n",
              "    .colab-df-convert {\n",
              "      background-color: #E8F0FE;\n",
              "      border: none;\n",
              "      border-radius: 50%;\n",
              "      cursor: pointer;\n",
              "      display: none;\n",
              "      fill: #1967D2;\n",
              "      height: 32px;\n",
              "      padding: 0 0 0 0;\n",
              "      width: 32px;\n",
              "    }\n",
              "\n",
              "    .colab-df-convert:hover {\n",
              "      background-color: #E2EBFA;\n",
              "      box-shadow: 0px 1px 2px rgba(60, 64, 67, 0.3), 0px 1px 3px 1px rgba(60, 64, 67, 0.15);\n",
              "      fill: #174EA6;\n",
              "    }\n",
              "\n",
              "    .colab-df-buttons div {\n",
              "      margin-bottom: 4px;\n",
              "    }\n",
              "\n",
              "    [theme=dark] .colab-df-convert {\n",
              "      background-color: #3B4455;\n",
              "      fill: #D2E3FC;\n",
              "    }\n",
              "\n",
              "    [theme=dark] .colab-df-convert:hover {\n",
              "      background-color: #434B5C;\n",
              "      box-shadow: 0px 1px 3px 1px rgba(0, 0, 0, 0.15);\n",
              "      filter: drop-shadow(0px 1px 2px rgba(0, 0, 0, 0.3));\n",
              "      fill: #FFFFFF;\n",
              "    }\n",
              "  </style>\n",
              "\n",
              "    <script>\n",
              "      const buttonEl =\n",
              "        document.querySelector('#df-ee6d1552-ad0b-4ac4-a3c0-ed3b77600c46 button.colab-df-convert');\n",
              "      buttonEl.style.display =\n",
              "        google.colab.kernel.accessAllowed ? 'block' : 'none';\n",
              "\n",
              "      async function convertToInteractive(key) {\n",
              "        const element = document.querySelector('#df-ee6d1552-ad0b-4ac4-a3c0-ed3b77600c46');\n",
              "        const dataTable =\n",
              "          await google.colab.kernel.invokeFunction('convertToInteractive',\n",
              "                                                    [key], {});\n",
              "        if (!dataTable) return;\n",
              "\n",
              "        const docLinkHtml = 'Like what you see? Visit the ' +\n",
              "          '<a target=\"_blank\" href=https://colab.research.google.com/notebooks/data_table.ipynb>data table notebook</a>'\n",
              "          + ' to learn more about interactive tables.';\n",
              "        element.innerHTML = '';\n",
              "        dataTable['output_type'] = 'display_data';\n",
              "        await google.colab.output.renderOutput(dataTable, element);\n",
              "        const docLink = document.createElement('div');\n",
              "        docLink.innerHTML = docLinkHtml;\n",
              "        element.appendChild(docLink);\n",
              "      }\n",
              "    </script>\n",
              "  </div>\n",
              "\n",
              "\n",
              "  <div id=\"id_638e1da5-5aae-4869-9077-16abbe0e7d0b\">\n",
              "    <style>\n",
              "      .colab-df-generate {\n",
              "        background-color: #E8F0FE;\n",
              "        border: none;\n",
              "        border-radius: 50%;\n",
              "        cursor: pointer;\n",
              "        display: none;\n",
              "        fill: #1967D2;\n",
              "        height: 32px;\n",
              "        padding: 0 0 0 0;\n",
              "        width: 32px;\n",
              "      }\n",
              "\n",
              "      .colab-df-generate:hover {\n",
              "        background-color: #E2EBFA;\n",
              "        box-shadow: 0px 1px 2px rgba(60, 64, 67, 0.3), 0px 1px 3px 1px rgba(60, 64, 67, 0.15);\n",
              "        fill: #174EA6;\n",
              "      }\n",
              "\n",
              "      [theme=dark] .colab-df-generate {\n",
              "        background-color: #3B4455;\n",
              "        fill: #D2E3FC;\n",
              "      }\n",
              "\n",
              "      [theme=dark] .colab-df-generate:hover {\n",
              "        background-color: #434B5C;\n",
              "        box-shadow: 0px 1px 3px 1px rgba(0, 0, 0, 0.15);\n",
              "        filter: drop-shadow(0px 1px 2px rgba(0, 0, 0, 0.3));\n",
              "        fill: #FFFFFF;\n",
              "      }\n",
              "    </style>\n",
              "    <button class=\"colab-df-generate\" onclick=\"generateWithVariable('df_para_planilha')\"\n",
              "            title=\"Generate code using this dataframe.\"\n",
              "            style=\"display:none;\">\n",
              "\n",
              "  <svg xmlns=\"http://www.w3.org/2000/svg\" height=\"24px\"viewBox=\"0 0 24 24\"\n",
              "       width=\"24px\">\n",
              "    <path d=\"M7,19H8.4L18.45,9,17,7.55,7,17.6ZM5,21V16.75L18.45,3.32a2,2,0,0,1,2.83,0l1.4,1.43a1.91,1.91,0,0,1,.58,1.4,1.91,1.91,0,0,1-.58,1.4L9.25,21ZM18.45,9,17,7.55Zm-12,3A5.31,5.31,0,0,0,4.9,8.1,5.31,5.31,0,0,0,1,6.5,5.31,5.31,0,0,0,4.9,4.9,5.31,5.31,0,0,0,6.5,1,5.31,5.31,0,0,0,8.1,4.9,5.31,5.31,0,0,0,12,6.5,5.46,5.46,0,0,0,6.5,12Z\"/>\n",
              "  </svg>\n",
              "    </button>\n",
              "    <script>\n",
              "      (() => {\n",
              "      const buttonEl =\n",
              "        document.querySelector('#id_638e1da5-5aae-4869-9077-16abbe0e7d0b button.colab-df-generate');\n",
              "      buttonEl.style.display =\n",
              "        google.colab.kernel.accessAllowed ? 'block' : 'none';\n",
              "\n",
              "      buttonEl.onclick = () => {\n",
              "        google.colab.notebook.generateWithVariable('df_para_planilha');\n",
              "      }\n",
              "      })();\n",
              "    </script>\n",
              "  </div>\n",
              "\n",
              "    </div>\n",
              "  </div>\n"
            ],
            "application/vnd.google.colaboratory.intrinsic+json": {
              "type": "dataframe",
              "variable_name": "df_para_planilha",
              "summary": "{\n  \"name\": \"df_para_planilha\",\n  \"rows\": 1,\n  \"fields\": [\n    {\n      \"column\": \"NE\",\n      \"properties\": {\n        \"dtype\": \"string\",\n        \"num_unique_values\": 1,\n        \"samples\": [\n          \"322\"\n        ],\n        \"semantic_type\": \"\",\n        \"description\": \"\"\n      }\n    },\n    {\n      \"column\": \"CNPJ\",\n      \"properties\": {\n        \"dtype\": \"string\",\n        \"num_unique_values\": 1,\n        \"samples\": [\n          \"13.537.459/0001-70\"\n        ],\n        \"semantic_type\": \"\",\n        \"description\": \"\"\n      }\n    },\n    {\n      \"column\": \"Empresa\",\n      \"properties\": {\n        \"dtype\": \"string\",\n        \"num_unique_values\": 1,\n        \"samples\": [\n          \"2D XAVIER MEDICAMENTOS E PERFUMARIA LTDA\"\n        ],\n        \"semantic_type\": \"\",\n        \"description\": \"\"\n      }\n    },\n    {\n      \"column\": \"Valor\",\n      \"properties\": {\n        \"dtype\": \"string\",\n        \"num_unique_values\": 1,\n        \"samples\": [\n          \"4.569,02\"\n        ],\n        \"semantic_type\": \"\",\n        \"description\": \"\"\n      }\n    },\n    {\n      \"column\": \"Email\",\n      \"properties\": {\n        \"dtype\": \"string\",\n        \"num_unique_values\": 1,\n        \"samples\": [\n          \"comercial@bigmedica.com.br\"\n        ],\n        \"semantic_type\": \"\",\n        \"description\": \"\"\n      }\n    },\n    {\n      \"column\": \"Fim do prazo para entrega\",\n      \"properties\": {\n        \"dtype\": \"object\",\n        \"num_unique_values\": 1,\n        \"samples\": [\n          \"23/11/2024\"\n        ],\n        \"semantic_type\": \"\",\n        \"description\": \"\"\n      }\n    },\n    {\n      \"column\": \"Data da Entrega\",\n      \"properties\": {\n        \"dtype\": \"object\",\n        \"num_unique_values\": 1,\n        \"samples\": [\n          \"\"\n        ],\n        \"semantic_type\": \"\",\n        \"description\": \"\"\n      }\n    },\n    {\n      \"column\": \"No. da Nota Fiscal\",\n      \"properties\": {\n        \"dtype\": \"object\",\n        \"num_unique_values\": 1,\n        \"samples\": [\n          \"\"\n        ],\n        \"semantic_type\": \"\",\n        \"description\": \"\"\n      }\n    },\n    {\n      \"column\": \"Pend\\u00eancias na Entrega\",\n      \"properties\": {\n        \"dtype\": \"object\",\n        \"num_unique_values\": 1,\n        \"samples\": [\n          \"\"\n        ],\n        \"semantic_type\": \"\",\n        \"description\": \"\"\n      }\n    },\n    {\n      \"column\": \"Enviado para pagamento em:\",\n      \"properties\": {\n        \"dtype\": \"object\",\n        \"num_unique_values\": 1,\n        \"samples\": [\n          \"\"\n        ],\n        \"semantic_type\": \"\",\n        \"description\": \"\"\n      }\n    },\n    {\n      \"column\": \"Pago em:\",\n      \"properties\": {\n        \"dtype\": \"object\",\n        \"num_unique_values\": 1,\n        \"samples\": [\n          \"\"\n        ],\n        \"semantic_type\": \"\",\n        \"description\": \"\"\n      }\n    }\n  ]\n}"
            }
          },
          "metadata": {},
          "execution_count": 154
        }
      ],
      "source": [
        "df_para_planilha"
      ]
    },
    {
      "cell_type": "markdown",
      "metadata": {
        "id": "9ciTxpjCKknN"
      },
      "source": [
        "#Início da checagem de pagamentos (Objetivo 4)"
      ]
    },
    {
      "cell_type": "code",
      "execution_count": null,
      "metadata": {
        "id": "xYRB_HkdnNOQ"
      },
      "outputs": [],
      "source": [
        "#fazendo split para pegar só a partir dos envios das notas de empenho\n",
        "\n",
        "textPDF2 = textPDF.split('Envio de Nota de Empenho', 1)\n",
        "if len(textPDF2) > 1:\n",
        "  textPDF2 = textPDF2[1]\n",
        "else:\n",
        "  textPDF2 = \"\"\n"
      ]
    },
    {
      "cell_type": "code",
      "execution_count": null,
      "metadata": {
        "id": "g7M3Kzvl5zV7",
        "colab": {
          "base_uri": "https://localhost:8080/"
        },
        "outputId": "0ceae574-9e80-432c-aeec-7fede8d1d95f"
      },
      "outputs": [
        {
          "output_type": "stream",
          "name": "stderr",
          "text": [
            "[nltk_data] Downloading package punkt to /root/nltk_data...\n",
            "[nltk_data]   Package punkt is already up-to-date!\n",
            "[nltk_data] Downloading package stopwords to /root/nltk_data...\n",
            "[nltk_data]   Package stopwords is already up-to-date!\n"
          ]
        }
      ],
      "source": [
        "import nltk\n",
        "\n",
        "from nltk.tokenize import word_tokenize\n",
        "from nltk.corpus import stopwords\n",
        "\n",
        "nltk.download('punkt')\n",
        "nltk.download('stopwords')\n",
        "\n",
        "\n",
        "# Supondo que 'text' é o conteúdo extraído do PDF\n",
        "tokens = word_tokenize(textPDF2)\n",
        "# Remover stopwords (palavras comuns que não têm significado relevante)\n",
        "stop_words = set(stopwords.words('portuguese'))\n",
        "textPDF2_tokenizado = [word for word in tokens if word.lower() not in stop_words]\n"
      ]
    },
    {
      "cell_type": "code",
      "execution_count": null,
      "metadata": {
        "id": "7PeXp_Dt6Tt6",
        "colab": {
          "base_uri": "https://localhost:8080/"
        },
        "outputId": "25bc9ce8-15a5-48b7-8bac-4cbc8d6f8dc6"
      },
      "outputs": [
        {
          "output_type": "execute_result",
          "data": {
            "text/plain": [
              "[['322', '10Set24']]"
            ]
          },
          "metadata": {},
          "execution_count": 157
        }
      ],
      "source": [
        "import re\n",
        "\n",
        "lista_comprovantes = []\n",
        "\n",
        "padrao1 = re.compile(r'^2024NE000\\d{3}$')\n",
        "padrao2 = re.compile(r'\\d{2}[A-Z][a-z]{2}\\d{2}')\n",
        "\n",
        "for i in range (len(textPDF2_tokenizado)):\n",
        "  if textPDF2_tokenizado[i] == '531814':\n",
        "    comprovante = []\n",
        "    for j in range (i+1, i+20):\n",
        "      if padrao1.match(textPDF2_tokenizado[j]) or padrao2.match(textPDF2_tokenizado[j]):\n",
        "        comprovante.append(textPDF2_tokenizado[j])\n",
        "    lista_comprovantes.append(comprovante)\n",
        "\n",
        "lista_comprovantes\n",
        "\n",
        "lista_comprovantes_final = []\n",
        "for sublist in lista_comprovantes:\n",
        "  if sublist not in lista_comprovantes_final and len(sublist[1])<10:\n",
        "    lista_comprovantes_final.append(sublist)\n",
        "\n",
        "\n",
        "for lista in lista_comprovantes_final:\n",
        "  lista[0] = lista[0][9:]\n",
        "\n",
        "lista_comprovantes_final\n"
      ]
    },
    {
      "cell_type": "code",
      "execution_count": null,
      "metadata": {
        "id": "RTtw7xsU6Tri",
        "colab": {
          "base_uri": "https://localhost:8080/",
          "height": 354
        },
        "outputId": "2a4898d3-1356-4a86-ee05-0c397d0ce76c"
      },
      "outputs": [
        {
          "output_type": "stream",
          "name": "stderr",
          "text": [
            "<ipython-input-158-ea290ebfdcf2>:9: FutureWarning: ChainedAssignmentError: behaviour will change in pandas 3.0!\n",
            "You are setting values through chained assignment. Currently this works in certain cases, but when using Copy-on-Write (which will become the default behaviour in pandas 3.0) this will never work to update the original DataFrame or Series, because the intermediate object on which we are setting values will behave as a copy.\n",
            "A typical example is when you are setting values in a column of a DataFrame, like:\n",
            "\n",
            "df[\"col\"][row_indexer] = value\n",
            "\n",
            "Use `df.loc[row_indexer, \"col\"] = values` instead, to perform the assignment in a single step and ensure this keeps updating the original `df`.\n",
            "\n",
            "See the caveats in the documentation: https://pandas.pydata.org/pandas-docs/stable/user_guide/indexing.html#returning-a-view-versus-a-copy\n",
            "\n",
            "  df_Notas_de_empenho['Data_Pag'][j] = lista_comprovantes_final[i][1]\n"
          ]
        },
        {
          "output_type": "execute_result",
          "data": {
            "text/plain": [
              "    NE                CNPJ                                   Empresa  \\\n",
              "0  322  13.537.459/0001-70  2D XAVIER MEDICAMENTOS E PERFUMARIA LTDA   \n",
              "\n",
              "      Valor                       Email  \\\n",
              "0  4.569,02  comercial@bigmedica.com.br   \n",
              "\n",
              "                                         itens_da_NE Data_Pag  \n",
              "0  [1, 3, 4, 6, 7, 8, 9, 10, 11, 13, 14, 16, 17, ...  10Set24  "
            ],
            "text/html": [
              "\n",
              "  <div id=\"df-c81ccdb7-8d12-4b9a-b3a6-73be611f6a36\" class=\"colab-df-container\">\n",
              "    <div>\n",
              "<style scoped>\n",
              "    .dataframe tbody tr th:only-of-type {\n",
              "        vertical-align: middle;\n",
              "    }\n",
              "\n",
              "    .dataframe tbody tr th {\n",
              "        vertical-align: top;\n",
              "    }\n",
              "\n",
              "    .dataframe thead th {\n",
              "        text-align: right;\n",
              "    }\n",
              "</style>\n",
              "<table border=\"1\" class=\"dataframe\">\n",
              "  <thead>\n",
              "    <tr style=\"text-align: right;\">\n",
              "      <th></th>\n",
              "      <th>NE</th>\n",
              "      <th>CNPJ</th>\n",
              "      <th>Empresa</th>\n",
              "      <th>Valor</th>\n",
              "      <th>Email</th>\n",
              "      <th>itens_da_NE</th>\n",
              "      <th>Data_Pag</th>\n",
              "    </tr>\n",
              "  </thead>\n",
              "  <tbody>\n",
              "    <tr>\n",
              "      <th>0</th>\n",
              "      <td>322</td>\n",
              "      <td>13.537.459/0001-70</td>\n",
              "      <td>2D XAVIER MEDICAMENTOS E PERFUMARIA LTDA</td>\n",
              "      <td>4.569,02</td>\n",
              "      <td>comercial@bigmedica.com.br</td>\n",
              "      <td>[1, 3, 4, 6, 7, 8, 9, 10, 11, 13, 14, 16, 17, ...</td>\n",
              "      <td>10Set24</td>\n",
              "    </tr>\n",
              "  </tbody>\n",
              "</table>\n",
              "</div>\n",
              "    <div class=\"colab-df-buttons\">\n",
              "\n",
              "  <div class=\"colab-df-container\">\n",
              "    <button class=\"colab-df-convert\" onclick=\"convertToInteractive('df-c81ccdb7-8d12-4b9a-b3a6-73be611f6a36')\"\n",
              "            title=\"Convert this dataframe to an interactive table.\"\n",
              "            style=\"display:none;\">\n",
              "\n",
              "  <svg xmlns=\"http://www.w3.org/2000/svg\" height=\"24px\" viewBox=\"0 -960 960 960\">\n",
              "    <path d=\"M120-120v-720h720v720H120Zm60-500h600v-160H180v160Zm220 220h160v-160H400v160Zm0 220h160v-160H400v160ZM180-400h160v-160H180v160Zm440 0h160v-160H620v160ZM180-180h160v-160H180v160Zm440 0h160v-160H620v160Z\"/>\n",
              "  </svg>\n",
              "    </button>\n",
              "\n",
              "  <style>\n",
              "    .colab-df-container {\n",
              "      display:flex;\n",
              "      gap: 12px;\n",
              "    }\n",
              "\n",
              "    .colab-df-convert {\n",
              "      background-color: #E8F0FE;\n",
              "      border: none;\n",
              "      border-radius: 50%;\n",
              "      cursor: pointer;\n",
              "      display: none;\n",
              "      fill: #1967D2;\n",
              "      height: 32px;\n",
              "      padding: 0 0 0 0;\n",
              "      width: 32px;\n",
              "    }\n",
              "\n",
              "    .colab-df-convert:hover {\n",
              "      background-color: #E2EBFA;\n",
              "      box-shadow: 0px 1px 2px rgba(60, 64, 67, 0.3), 0px 1px 3px 1px rgba(60, 64, 67, 0.15);\n",
              "      fill: #174EA6;\n",
              "    }\n",
              "\n",
              "    .colab-df-buttons div {\n",
              "      margin-bottom: 4px;\n",
              "    }\n",
              "\n",
              "    [theme=dark] .colab-df-convert {\n",
              "      background-color: #3B4455;\n",
              "      fill: #D2E3FC;\n",
              "    }\n",
              "\n",
              "    [theme=dark] .colab-df-convert:hover {\n",
              "      background-color: #434B5C;\n",
              "      box-shadow: 0px 1px 3px 1px rgba(0, 0, 0, 0.15);\n",
              "      filter: drop-shadow(0px 1px 2px rgba(0, 0, 0, 0.3));\n",
              "      fill: #FFFFFF;\n",
              "    }\n",
              "  </style>\n",
              "\n",
              "    <script>\n",
              "      const buttonEl =\n",
              "        document.querySelector('#df-c81ccdb7-8d12-4b9a-b3a6-73be611f6a36 button.colab-df-convert');\n",
              "      buttonEl.style.display =\n",
              "        google.colab.kernel.accessAllowed ? 'block' : 'none';\n",
              "\n",
              "      async function convertToInteractive(key) {\n",
              "        const element = document.querySelector('#df-c81ccdb7-8d12-4b9a-b3a6-73be611f6a36');\n",
              "        const dataTable =\n",
              "          await google.colab.kernel.invokeFunction('convertToInteractive',\n",
              "                                                    [key], {});\n",
              "        if (!dataTable) return;\n",
              "\n",
              "        const docLinkHtml = 'Like what you see? Visit the ' +\n",
              "          '<a target=\"_blank\" href=https://colab.research.google.com/notebooks/data_table.ipynb>data table notebook</a>'\n",
              "          + ' to learn more about interactive tables.';\n",
              "        element.innerHTML = '';\n",
              "        dataTable['output_type'] = 'display_data';\n",
              "        await google.colab.output.renderOutput(dataTable, element);\n",
              "        const docLink = document.createElement('div');\n",
              "        docLink.innerHTML = docLinkHtml;\n",
              "        element.appendChild(docLink);\n",
              "      }\n",
              "    </script>\n",
              "  </div>\n",
              "\n",
              "\n",
              "  <div id=\"id_6e9578f8-fef1-4809-a9f4-5f5aa61c11ee\">\n",
              "    <style>\n",
              "      .colab-df-generate {\n",
              "        background-color: #E8F0FE;\n",
              "        border: none;\n",
              "        border-radius: 50%;\n",
              "        cursor: pointer;\n",
              "        display: none;\n",
              "        fill: #1967D2;\n",
              "        height: 32px;\n",
              "        padding: 0 0 0 0;\n",
              "        width: 32px;\n",
              "      }\n",
              "\n",
              "      .colab-df-generate:hover {\n",
              "        background-color: #E2EBFA;\n",
              "        box-shadow: 0px 1px 2px rgba(60, 64, 67, 0.3), 0px 1px 3px 1px rgba(60, 64, 67, 0.15);\n",
              "        fill: #174EA6;\n",
              "      }\n",
              "\n",
              "      [theme=dark] .colab-df-generate {\n",
              "        background-color: #3B4455;\n",
              "        fill: #D2E3FC;\n",
              "      }\n",
              "\n",
              "      [theme=dark] .colab-df-generate:hover {\n",
              "        background-color: #434B5C;\n",
              "        box-shadow: 0px 1px 3px 1px rgba(0, 0, 0, 0.15);\n",
              "        filter: drop-shadow(0px 1px 2px rgba(0, 0, 0, 0.3));\n",
              "        fill: #FFFFFF;\n",
              "      }\n",
              "    </style>\n",
              "    <button class=\"colab-df-generate\" onclick=\"generateWithVariable('df_Notas_de_empenho')\"\n",
              "            title=\"Generate code using this dataframe.\"\n",
              "            style=\"display:none;\">\n",
              "\n",
              "  <svg xmlns=\"http://www.w3.org/2000/svg\" height=\"24px\"viewBox=\"0 0 24 24\"\n",
              "       width=\"24px\">\n",
              "    <path d=\"M7,19H8.4L18.45,9,17,7.55,7,17.6ZM5,21V16.75L18.45,3.32a2,2,0,0,1,2.83,0l1.4,1.43a1.91,1.91,0,0,1,.58,1.4,1.91,1.91,0,0,1-.58,1.4L9.25,21ZM18.45,9,17,7.55Zm-12,3A5.31,5.31,0,0,0,4.9,8.1,5.31,5.31,0,0,0,1,6.5,5.31,5.31,0,0,0,4.9,4.9,5.31,5.31,0,0,0,6.5,1,5.31,5.31,0,0,0,8.1,4.9,5.31,5.31,0,0,0,12,6.5,5.46,5.46,0,0,0,6.5,12Z\"/>\n",
              "  </svg>\n",
              "    </button>\n",
              "    <script>\n",
              "      (() => {\n",
              "      const buttonEl =\n",
              "        document.querySelector('#id_6e9578f8-fef1-4809-a9f4-5f5aa61c11ee button.colab-df-generate');\n",
              "      buttonEl.style.display =\n",
              "        google.colab.kernel.accessAllowed ? 'block' : 'none';\n",
              "\n",
              "      buttonEl.onclick = () => {\n",
              "        google.colab.notebook.generateWithVariable('df_Notas_de_empenho');\n",
              "      }\n",
              "      })();\n",
              "    </script>\n",
              "  </div>\n",
              "\n",
              "    </div>\n",
              "  </div>\n"
            ],
            "application/vnd.google.colaboratory.intrinsic+json": {
              "type": "dataframe",
              "variable_name": "df_Notas_de_empenho",
              "summary": "{\n  \"name\": \"df_Notas_de_empenho\",\n  \"rows\": 1,\n  \"fields\": [\n    {\n      \"column\": \"NE\",\n      \"properties\": {\n        \"dtype\": \"string\",\n        \"num_unique_values\": 1,\n        \"samples\": [\n          \"322\"\n        ],\n        \"semantic_type\": \"\",\n        \"description\": \"\"\n      }\n    },\n    {\n      \"column\": \"CNPJ\",\n      \"properties\": {\n        \"dtype\": \"string\",\n        \"num_unique_values\": 1,\n        \"samples\": [\n          \"13.537.459/0001-70\"\n        ],\n        \"semantic_type\": \"\",\n        \"description\": \"\"\n      }\n    },\n    {\n      \"column\": \"Empresa\",\n      \"properties\": {\n        \"dtype\": \"string\",\n        \"num_unique_values\": 1,\n        \"samples\": [\n          \"2D XAVIER MEDICAMENTOS E PERFUMARIA LTDA\"\n        ],\n        \"semantic_type\": \"\",\n        \"description\": \"\"\n      }\n    },\n    {\n      \"column\": \"Valor\",\n      \"properties\": {\n        \"dtype\": \"string\",\n        \"num_unique_values\": 1,\n        \"samples\": [\n          \"4.569,02\"\n        ],\n        \"semantic_type\": \"\",\n        \"description\": \"\"\n      }\n    },\n    {\n      \"column\": \"Email\",\n      \"properties\": {\n        \"dtype\": \"string\",\n        \"num_unique_values\": 1,\n        \"samples\": [\n          \"comercial@bigmedica.com.br\"\n        ],\n        \"semantic_type\": \"\",\n        \"description\": \"\"\n      }\n    },\n    {\n      \"column\": \"itens_da_NE\",\n      \"properties\": {\n        \"dtype\": \"object\",\n        \"semantic_type\": \"\",\n        \"description\": \"\"\n      }\n    },\n    {\n      \"column\": \"Data_Pag\",\n      \"properties\": {\n        \"dtype\": \"string\",\n        \"num_unique_values\": 1,\n        \"samples\": [\n          \"10Set24\"\n        ],\n        \"semantic_type\": \"\",\n        \"description\": \"\"\n      }\n    }\n  ]\n}"
            }
          },
          "metadata": {},
          "execution_count": 158
        }
      ],
      "source": [
        "df_Notas_de_empenho = df_Notas_de_empenho.drop(columns=['NE_Completa'])\n",
        "\n",
        "df_Notas_de_empenho['Data_Pag'] = 'Não'\n",
        "df_Notas_de_empenho['NE'] = df_Notas_de_empenho['NE'].astype(str)\n",
        "\n",
        "for i in range (len(lista_comprovantes_final)):\n",
        "  for j in range (df_Notas_de_empenho.shape[0]):\n",
        "    if lista_comprovantes_final[i][0] == df_Notas_de_empenho['NE'][j]:\n",
        "      df_Notas_de_empenho['Data_Pag'][j] = lista_comprovantes_final[i][1]\n",
        "\n",
        "df_Notas_de_empenho"
      ]
    },
    {
      "cell_type": "code",
      "execution_count": null,
      "metadata": {
        "id": "p_0SpaIyYveY"
      },
      "outputs": [],
      "source": [
        "df_Notas_de_empenho.to_excel('Planilha de Controle de Pagamentos.xlsx', index=False)"
      ]
    },
    {
      "cell_type": "code",
      "execution_count": null,
      "metadata": {
        "id": "3NtfmbchYjNu",
        "colab": {
          "base_uri": "https://localhost:8080/",
          "height": 326
        },
        "outputId": "902ff47c-a9a1-4900-e72a-cd7949c408cb"
      },
      "outputs": [
        {
          "output_type": "display_data",
          "data": {
            "text/plain": [
              "<IPython.core.display.HTML object>"
            ],
            "text/html": [
              "<h1 style=\"color: blue;\">Fim do Programa. Verifique a criação dos arquivos:</h1>"
            ]
          },
          "metadata": {}
        },
        {
          "output_type": "display_data",
          "data": {
            "text/plain": [
              "<IPython.core.display.HTML object>"
            ],
            "text/html": [
              "<h2 style=\"color: blue;\">textos_emails.txt (Arquivo com os corpos dos emails para serem enviados).</h2>"
            ]
          },
          "metadata": {}
        },
        {
          "output_type": "display_data",
          "data": {
            "text/plain": [
              "<IPython.core.display.HTML object>"
            ],
            "text/html": [
              "<h2 style=\"color: blue;\">mensagem_itens_homologados.txt (Arquivo com os itens que foram homologados mas não estão em nenhuma Nota de Empenho).</h2>"
            ]
          },
          "metadata": {}
        },
        {
          "output_type": "display_data",
          "data": {
            "text/plain": [
              "<IPython.core.display.HTML object>"
            ],
            "text/html": [
              "<h2 style=\"color: blue;\">Planilha de Controle de Entregas.xlsx (Arquivo com a planilha de controle de entregas).</h2>"
            ]
          },
          "metadata": {}
        },
        {
          "output_type": "display_data",
          "data": {
            "text/plain": [
              "<IPython.core.display.HTML object>"
            ],
            "text/html": [
              "<h2 style=\"color: blue;\">Planilha de Controle de Pagamentos.xlsx (Arquivo com a planilha de controle de pagamentos.</h2>"
            ]
          },
          "metadata": {}
        }
      ],
      "source": [
        "from IPython.display import display, HTML\n",
        "# Texto em vermelho e com fonte maior\n",
        "text1 = '<h1 style=\"color: blue;\">Fim do Programa. Verifique a criação dos arquivos:</h1>'\n",
        "text2 = '<h2 style=\"color: blue;\">textos_emails.txt (Arquivo com os corpos dos emails para serem enviados).</h2>'\n",
        "text3 = '<h2 style=\"color: blue;\">mensagem_itens_homologados.txt (Arquivo com os itens que foram homologados mas não estão em nenhuma Nota de Empenho).</h2>'\n",
        "text4 = '<h2 style=\"color: blue;\">Planilha de Controle de Entregas.xlsx (Arquivo com a planilha de controle de entregas).</h2>'\n",
        "text5 = '<h2 style=\"color: blue;\">Planilha de Controle de Pagamentos.xlsx (Arquivo com a planilha de controle de pagamentos.</h2>'\n",
        "\n",
        "# Exibir o texto\n",
        "display(HTML(text1))\n",
        "display(HTML(text2))\n",
        "display(HTML(text3))\n",
        "display(HTML(text4))\n",
        "display(HTML(text5))"
      ]
    },
    {
      "cell_type": "markdown",
      "metadata": {
        "id": "LuPiBhspnMwV"
      },
      "source": []
    }
  ],
  "metadata": {
    "colab": {
      "provenance": []
    },
    "kernelspec": {
      "display_name": "Python 3",
      "name": "python3"
    },
    "language_info": {
      "name": "python",
      "version": "3.12.4"
    }
  },
  "nbformat": 4,
  "nbformat_minor": 0
}